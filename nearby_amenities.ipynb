{
 "cells": [
  {
   "cell_type": "code",
   "execution_count": 1,
   "metadata": {},
   "outputs": [],
   "source": [
    "import plotly.express as px\n",
    "import sys\n",
    "import numpy as np\n",
    "import pandas as pd\n",
    "import matplotlib.pyplot as plt\n",
    "import plotly.graph_objects as go"
   ]
  },
  {
   "cell_type": "code",
   "execution_count": 2,
   "metadata": {},
   "outputs": [],
   "source": [
    "df = pd.read_json('osm/amenities-vancouver.json.gz', lines=True)"
   ]
  },
  {
   "cell_type": "code",
   "execution_count": 3,
   "metadata": {},
   "outputs": [
    {
     "data": {
      "text/html": [
       "<div>\n",
       "<style scoped>\n",
       "    .dataframe tbody tr th:only-of-type {\n",
       "        vertical-align: middle;\n",
       "    }\n",
       "\n",
       "    .dataframe tbody tr th {\n",
       "        vertical-align: top;\n",
       "    }\n",
       "\n",
       "    .dataframe thead th {\n",
       "        text-align: right;\n",
       "    }\n",
       "</style>\n",
       "<table border=\"1\" class=\"dataframe\">\n",
       "  <thead>\n",
       "    <tr style=\"text-align: right;\">\n",
       "      <th></th>\n",
       "      <th>lat</th>\n",
       "      <th>lon</th>\n",
       "      <th>timestamp</th>\n",
       "      <th>amenity</th>\n",
       "      <th>name</th>\n",
       "      <th>tags</th>\n",
       "    </tr>\n",
       "  </thead>\n",
       "  <tbody>\n",
       "    <tr>\n",
       "      <th>0</th>\n",
       "      <td>49.260812</td>\n",
       "      <td>-123.125736</td>\n",
       "      <td>2020-03-20T18:22:12.000-07:00</td>\n",
       "      <td>cafe</td>\n",
       "      <td>Starbucks</td>\n",
       "      <td>{'brand:wikidata': 'Q37158', 'official_name': ...</td>\n",
       "    </tr>\n",
       "    <tr>\n",
       "      <th>1</th>\n",
       "      <td>49.260953</td>\n",
       "      <td>-123.125704</td>\n",
       "      <td>2019-08-02T18:11:20.000-07:00</td>\n",
       "      <td>fast_food</td>\n",
       "      <td>Salad Loop</td>\n",
       "      <td>{'opening_hours': 'Mo-Fr 07:00-17:00; Sa 10:00...</td>\n",
       "    </tr>\n",
       "    <tr>\n",
       "      <th>2</th>\n",
       "      <td>49.373423</td>\n",
       "      <td>-123.291894</td>\n",
       "      <td>2016-10-10T02:14:29.000-07:00</td>\n",
       "      <td>toilets</td>\n",
       "      <td>NaN</td>\n",
       "      <td>{}</td>\n",
       "    </tr>\n",
       "    <tr>\n",
       "      <th>3</th>\n",
       "      <td>49.249848</td>\n",
       "      <td>-122.959708</td>\n",
       "      <td>2011-09-06T03:52:10.000-07:00</td>\n",
       "      <td>bbq</td>\n",
       "      <td>NaN</td>\n",
       "      <td>{}</td>\n",
       "    </tr>\n",
       "    <tr>\n",
       "      <th>4</th>\n",
       "      <td>49.370898</td>\n",
       "      <td>-123.280448</td>\n",
       "      <td>2015-05-03T00:42:25.000-07:00</td>\n",
       "      <td>place_of_worship</td>\n",
       "      <td>St. Monica's Anglican Church</td>\n",
       "      <td>{'addr:housenumber': '6404', 'addr:street': 'W...</td>\n",
       "    </tr>\n",
       "    <tr>\n",
       "      <th>...</th>\n",
       "      <td>...</td>\n",
       "      <td>...</td>\n",
       "      <td>...</td>\n",
       "      <td>...</td>\n",
       "      <td>...</td>\n",
       "      <td>...</td>\n",
       "    </tr>\n",
       "    <tr>\n",
       "      <th>17713</th>\n",
       "      <td>49.278424</td>\n",
       "      <td>-122.806704</td>\n",
       "      <td>2013-03-26T23:45:49.000-07:00</td>\n",
       "      <td>cafe</td>\n",
       "      <td>Creekside Coffee</td>\n",
       "      <td>{}</td>\n",
       "    </tr>\n",
       "    <tr>\n",
       "      <th>17714</th>\n",
       "      <td>49.278770</td>\n",
       "      <td>-122.797628</td>\n",
       "      <td>2013-03-26T23:45:49.000-07:00</td>\n",
       "      <td>restaurant</td>\n",
       "      <td>Togo Sushi</td>\n",
       "      <td>{'cuisine': 'japanese'}</td>\n",
       "    </tr>\n",
       "    <tr>\n",
       "      <th>17715</th>\n",
       "      <td>49.276443</td>\n",
       "      <td>-122.790138</td>\n",
       "      <td>2013-03-26T23:45:50.000-07:00</td>\n",
       "      <td>parking</td>\n",
       "      <td>NaN</td>\n",
       "      <td>{}</td>\n",
       "    </tr>\n",
       "    <tr>\n",
       "      <th>17716</th>\n",
       "      <td>49.282666</td>\n",
       "      <td>-122.826978</td>\n",
       "      <td>2019-09-13T13:56:49.000-07:00</td>\n",
       "      <td>pub</td>\n",
       "      <td>Brown's Social House</td>\n",
       "      <td>{'addr:housenumber': '215', 'brewery': 'Guinne...</td>\n",
       "    </tr>\n",
       "    <tr>\n",
       "      <th>17717</th>\n",
       "      <td>49.282420</td>\n",
       "      <td>-122.826340</td>\n",
       "      <td>2019-09-13T13:56:49.000-07:00</td>\n",
       "      <td>cafe</td>\n",
       "      <td>Gallagher's Cafe</td>\n",
       "      <td>{'addr:housenumber': '232', 'internet_access':...</td>\n",
       "    </tr>\n",
       "  </tbody>\n",
       "</table>\n",
       "<p>17718 rows × 6 columns</p>\n",
       "</div>"
      ],
      "text/plain": [
       "             lat         lon                      timestamp           amenity  \\\n",
       "0      49.260812 -123.125736  2020-03-20T18:22:12.000-07:00              cafe   \n",
       "1      49.260953 -123.125704  2019-08-02T18:11:20.000-07:00         fast_food   \n",
       "2      49.373423 -123.291894  2016-10-10T02:14:29.000-07:00           toilets   \n",
       "3      49.249848 -122.959708  2011-09-06T03:52:10.000-07:00               bbq   \n",
       "4      49.370898 -123.280448  2015-05-03T00:42:25.000-07:00  place_of_worship   \n",
       "...          ...         ...                            ...               ...   \n",
       "17713  49.278424 -122.806704  2013-03-26T23:45:49.000-07:00              cafe   \n",
       "17714  49.278770 -122.797628  2013-03-26T23:45:49.000-07:00        restaurant   \n",
       "17715  49.276443 -122.790138  2013-03-26T23:45:50.000-07:00           parking   \n",
       "17716  49.282666 -122.826978  2019-09-13T13:56:49.000-07:00               pub   \n",
       "17717  49.282420 -122.826340  2019-09-13T13:56:49.000-07:00              cafe   \n",
       "\n",
       "                               name  \\\n",
       "0                         Starbucks   \n",
       "1                        Salad Loop   \n",
       "2                               NaN   \n",
       "3                               NaN   \n",
       "4      St. Monica's Anglican Church   \n",
       "...                             ...   \n",
       "17713              Creekside Coffee   \n",
       "17714                    Togo Sushi   \n",
       "17715                           NaN   \n",
       "17716          Brown's Social House   \n",
       "17717              Gallagher's Cafe   \n",
       "\n",
       "                                                    tags  \n",
       "0      {'brand:wikidata': 'Q37158', 'official_name': ...  \n",
       "1      {'opening_hours': 'Mo-Fr 07:00-17:00; Sa 10:00...  \n",
       "2                                                     {}  \n",
       "3                                                     {}  \n",
       "4      {'addr:housenumber': '6404', 'addr:street': 'W...  \n",
       "...                                                  ...  \n",
       "17713                                                 {}  \n",
       "17714                            {'cuisine': 'japanese'}  \n",
       "17715                                                 {}  \n",
       "17716  {'addr:housenumber': '215', 'brewery': 'Guinne...  \n",
       "17717  {'addr:housenumber': '232', 'internet_access':...  \n",
       "\n",
       "[17718 rows x 6 columns]"
      ]
     },
     "execution_count": 3,
     "metadata": {},
     "output_type": "execute_result"
    }
   ],
   "source": [
    "df"
   ]
  },
  {
   "cell_type": "code",
   "execution_count": 4,
   "metadata": {},
   "outputs": [],
   "source": [
    "am_count = df.groupby(['amenity']).count()"
   ]
  },
  {
   "cell_type": "code",
   "execution_count": 5,
   "metadata": {},
   "outputs": [
    {
     "name": "stdout",
     "output_type": "stream",
     "text": [
      "                   lat   lon  timestamp  name  tags\n",
      "amenity                                            \n",
      "atm                 98    98         98     8    98\n",
      "bank               460   460        460   458   460\n",
      "bar                177   177        177   173   177\n",
      "bench             3738  3738       3738    95  3738\n",
      "bicycle_parking   1423  1423       1423     3  1423\n",
      "bicycle_rental     202   202        202   201   202\n",
      "bureau_de_change    23    23         23    20    23\n",
      "cafe              1066  1066       1066  1055  1066\n",
      "car_rental          33    33         33    33    33\n",
      "car_sharing        132   132        132     9   132\n",
      "car_wash            31    31         31    20    31\n",
      "charging_station    63    63         63    18    63\n",
      "childcare           47    47         47    43    47\n",
      "clinic             120   120        120   114   120\n",
      "college             23    23         23    23    23\n",
      "community_centre    63    63         63    58    63\n",
      "dentist            248   248        248   226   248\n",
      "doctors             99    99         99    99    99\n",
      "drinking_water     322   322        322     9   322\n",
      "fast_food         1147  1147       1147  1131  1147\n",
      "ferry_terminal      33    33         33    28    33\n",
      "fire_station        22    22         22    19    22\n",
      "fountain            61    61         61     7    61\n",
      "fuel               202   202        202   188   202\n",
      "ice_cream           73    73         73    71    73\n",
      "library             51    51         51    50    51\n",
      "parking            307   307        307    29   307\n",
      "parking_entrance   274   274        274     5   274\n",
      "pharmacy           311   311        311   304   311\n",
      "place_of_worship   116   116        116    96   116\n",
      "police              23    23         23    20    23\n",
      "post_box           972   972        972   116   972\n",
      "post_office        188   188        188   187   188\n",
      "pub                189   189        189   186   189\n",
      "public_bookcase     80    80         80    38    80\n",
      "recycling          139   139        139    31   139\n",
      "restaurant        2472  2472       2472  2444  2472\n",
      "school              71    71         71    62    71\n",
      "shelter             65    65         65    11    65\n",
      "social_facility     50    50         50    49    50\n",
      "telephone           68    68         68     1    68\n",
      "theatre             44    44         44    41    44\n",
      "toilets            552   552        552    18   552\n",
      "vending_machine    138   138        138    11   138\n",
      "veterinary          72    72         72    68    72\n",
      "waste_basket      1137  1137       1137    21  1137\n",
      "waste_disposal      82    82         82     1    82\n"
     ]
    }
   ],
   "source": [
    "pd.set_option('display.max_rows', 139)\n",
    "print(am_count[am_count['lat'] > 20])\n",
    "pd.set_option('display.max_rows', 10)"
   ]
  },
  {
   "cell_type": "code",
   "execution_count": 6,
   "metadata": {},
   "outputs": [
    {
     "name": "stdout",
     "output_type": "stream",
     "text": [
      "                         lat   lon  timestamp  name  tags\n",
      "amenity                                                  \n",
      "ATLAS_clean_room           1     1          1     0     1\n",
      "EVSE                       1     1          1     0     1\n",
      "Observation Platform       1     1          1     0     1\n",
      "Pharmacy                   2     2          2     2     2\n",
      "animal_shelter             4     4          4     4     4\n",
      "arts_centre               11    11         11    11    11\n",
      "atm                       98    98         98     8    98\n",
      "atm;bank                   1     1          1     1     1\n",
      "bank                     460   460        460   458   460\n",
      "bar                      177   177        177   173   177\n",
      "bbq                        7     7          7     0     7\n",
      "bench                   3738  3738       3738    95  3738\n",
      "bicycle_parking         1423  1423       1423     3  1423\n",
      "bicycle_rental           202   202        202   201   202\n",
      "bicycle_repair_station    19    19         19     2    19\n",
      "biergarten                 1     1          1     0     1\n",
      "bistro                     1     1          1     1     1\n",
      "boat_rental                9     9          9     8     9\n",
      "bureau_de_change          23    23         23    20    23\n",
      "bus_station               16    16         16    16    16\n",
      "cafe                    1066  1066       1066  1055  1066\n",
      "car_rental                33    33         33    33    33\n",
      "car_rep                    1     1          1     1     1\n",
      "car_sharing              132   132        132     9   132\n",
      "car_wash                  31    31         31    20    31\n",
      "casino                     1     1          1     1     1\n",
      "charging_station          63    63         63    18    63\n",
      "childcare                 47    47         47    43    47\n",
      "chiropractor               1     1          1     1     1\n",
      "cinema                    12    12         12    12    12\n",
      "clinic                   120   120        120   114   120\n",
      "clock                     10    10         10     4    10\n",
      "college                   23    23         23    23    23\n",
      "community_centre          63    63         63    58    63\n",
      "compressed_air             8     8          8     0     8\n",
      "conference_centre          2     2          2     2     2\n",
      "construction               5     5          5     4     5\n",
      "courthouse                 2     2          2     2     2\n",
      "cram_school                2     2          2     2     2\n",
      "dentist                  248   248        248   226   248\n",
      "disused:restaurant         1     1          1     1     1\n",
      "doctors                   99    99         99    99    99\n",
      "dojo                      13    13         13    13    13\n",
      "drinking_water           322   322        322     9   322\n",
      "driving_school             3     3          3     3     3\n",
      "events_venue               9     9          9     9     9\n",
      "family_centre              1     1          1     1     1\n",
      "fast_food               1147  1147       1147  1131  1147\n",
      "ferry_terminal            33    33         33    28    33\n",
      "fire_station              22    22         22    19    22\n",
      "first_aid                  1     1          1     0     1\n",
      "food_court                15    15         15     6    15\n",
      "fountain                  61    61         61     7    61\n",
      "fuel                     202   202        202   188   202\n",
      "gambling                   1     1          1     1     1\n",
      "gym                        1     1          1     1     1\n",
      "healthcare                 2     2          2     1     2\n",
      "hospital                   8     8          8     8     8\n",
      "housing co-op              1     1          1     1     1\n",
      "hunting_stand              1     1          1     0     1\n",
      "ice_cream                 73    73         73    71    73\n",
      "internet_cafe              2     2          2     2     2\n",
      "juice_bar                  1     1          1     1     1\n",
      "kindergarten              17    17         17    16    17\n",
      "language_school            5     5          5     5     5\n",
      "leisure                    1     1          1     1     1\n",
      "letter_box                 2     2          2     0     2\n",
      "library                   51    51         51    50    51\n",
      "loading_dock               4     4          4     0     4\n",
      "lobby                      1     1          1     1     1\n",
      "lounge                     4     4          4     3     4\n",
      "luggage_locker             1     1          1     0     1\n",
      "marketplace               18    18         18    17    18\n",
      "meditation_centre          1     1          1     1     1\n",
      "monastery                  1     1          1     1     1\n",
      "money_transfer             1     1          1     0     1\n",
      "motorcycle_parking         6     6          6     3     6\n",
      "motorcycle_rental          1     1          1     1     1\n",
      "music_school              11    11         11    10    11\n",
      "nightclub                 12    12         12    12    12\n",
      "nursery                    1     1          1     1     1\n",
      "office|financial           1     1          1     1     1\n",
      "park                       1     1          1     1     1\n",
      "parking                  307   307        307    29   307\n",
      "parking_entrance         274   274        274     5   274\n",
      "parking_space              8     8          8     0     8\n",
      "payment_terminal           1     1          1     0     1\n",
      "pharmacy                 311   311        311   304   311\n",
      "photo_booth                1     1          1     0     1\n",
      "place_of_worship         116   116        116    96   116\n",
      "playground                 1     1          1     0     1\n",
      "police                    23    23         23    20    23\n",
      "post_box                 972   972        972   116   972\n",
      "post_depot                 2     2          2     2     2\n",
      "post_office              188   188        188   187   188\n",
      "prep_school                5     5          5     5     5\n",
      "pub                      189   189        189   186   189\n",
      "public_bookcase           80    80         80    38    80\n",
      "public_building            1     1          1     1     1\n",
      "ranger_station             1     1          1     0     1\n",
      "recycling                139   139        139    31   139\n",
      "research_institute        11    11         11    11    11\n",
      "restaurant              2472  2472       2472  2444  2472\n",
      "safety                     1     1          1     1     1\n",
      "sanitary_dump_station      4     4          4     0     4\n",
      "school                    71    71         71    62    71\n",
      "science                    6     6          6     6     6\n",
      "scrapyard                  2     2          2     2     2\n",
      "seaplane terminal          3     3          3     0     3\n",
      "shelter                   65    65         65    11    65\n",
      "shop|clothes               1     1          1     1     1\n",
      "shower                     8     8          8     0     8\n",
      "smoking_area               4     4          4     0     4\n",
      "social_centre             12    12         12    12    12\n",
      "social_facility           50    50         50    49    50\n",
      "spa                        5     5          5     5     5\n",
      "storage                    1     1          1     1     1\n",
      "storage_rental             1     1          1     1     1\n",
      "stripclub                  2     2          2     0     2\n",
      "studio                     6     6          6     6     6\n",
      "taxi                      13    13         13     1    13\n",
      "telephone                 68    68         68     1    68\n",
      "theatre                   44    44         44    41    44\n",
      "toilets                  552   552        552    18   552\n",
      "townhall                   9     9          9     7     9\n",
      "training                   1     1          1     1     1\n",
      "trash                      1     1          1     0     1\n",
      "trolley_bay               16    16         16     0    16\n",
      "university                 6     6          6     6     6\n",
      "vacuum_cleaner             5     5          5     0     5\n",
      "vending_machine          138   138        138    11   138\n",
      "veterinary                72    72         72    68    72\n",
      "waste_basket            1137  1137       1137    21  1137\n",
      "waste_disposal            82    82         82     1    82\n",
      "waste_transfer_station     1     1          1     1     1\n",
      "water_point                1     1          1     1     1\n",
      "watering_place             1     1          1     1     1\n",
      "workshop                   3     3          3     3     3\n"
     ]
    }
   ],
   "source": [
    "pd.set_option('display.max_rows', 139)\n",
    "print(df.groupby(['amenity']).count())\n",
    "pd.set_option('display.max_rows', 10)"
   ]
  },
  {
   "cell_type": "code",
   "execution_count": 7,
   "metadata": {},
   "outputs": [],
   "source": [
    "interesting_amenities = ['arts_centre','boat_rental','car_rental','casino','cinema']"
   ]
  },
  {
   "cell_type": "code",
   "execution_count": 8,
   "metadata": {},
   "outputs": [
    {
     "data": {
      "text/plain": [
       "{'wheelchair': 'yes',\n",
       " 'addr:housenumber': '305',\n",
       " 'historic': 'monument',\n",
       " 'visibility': 'street',\n",
       " 'display': 'analog',\n",
       " 'tourism': 'attraction',\n",
       " 'addr:street': 'Water Street',\n",
       " 'wikipedia': 'en:Steam clock#Gastown steam clock',\n",
       " 'wikidata': 'Q477663',\n",
       " 'support': 'ground'}"
      ]
     },
     "execution_count": 8,
     "metadata": {},
     "output_type": "execute_result"
    }
   ],
   "source": [
    "df['tags'].loc[1531]"
   ]
  },
  {
   "cell_type": "code",
   "execution_count": 9,
   "metadata": {},
   "outputs": [],
   "source": [
    "def is_common(amenity):\n",
    "    common = ['waste_basket', 'toilets', 'bench']\n",
    "    if amenity in common:\n",
    "        return True\n",
    "    else:\n",
    "        return False"
   ]
  },
  {
   "cell_type": "code",
   "execution_count": 10,
   "metadata": {},
   "outputs": [],
   "source": [
    "def is_tourism(tags):\n",
    "    if 'tourism' in tags:\n",
    "        return True\n",
    "    else:\n",
    "        return False"
   ]
  },
  {
   "cell_type": "code",
   "execution_count": 11,
   "metadata": {},
   "outputs": [],
   "source": [
    "df['is_common'] = df['amenity'].apply(lambda x : is_common(x))"
   ]
  },
  {
   "cell_type": "code",
   "execution_count": 12,
   "metadata": {},
   "outputs": [],
   "source": [
    "df['is_tourism'] = df['tags'].apply(lambda x : is_tourism(x))"
   ]
  },
  {
   "cell_type": "code",
   "execution_count": 13,
   "metadata": {},
   "outputs": [
    {
     "data": {
      "text/html": [
       "<div>\n",
       "<style scoped>\n",
       "    .dataframe tbody tr th:only-of-type {\n",
       "        vertical-align: middle;\n",
       "    }\n",
       "\n",
       "    .dataframe tbody tr th {\n",
       "        vertical-align: top;\n",
       "    }\n",
       "\n",
       "    .dataframe thead th {\n",
       "        text-align: right;\n",
       "    }\n",
       "</style>\n",
       "<table border=\"1\" class=\"dataframe\">\n",
       "  <thead>\n",
       "    <tr style=\"text-align: right;\">\n",
       "      <th></th>\n",
       "      <th>lat</th>\n",
       "      <th>lon</th>\n",
       "      <th>timestamp</th>\n",
       "      <th>amenity</th>\n",
       "      <th>name</th>\n",
       "      <th>tags</th>\n",
       "      <th>is_common</th>\n",
       "      <th>is_tourism</th>\n",
       "    </tr>\n",
       "  </thead>\n",
       "  <tbody>\n",
       "    <tr>\n",
       "      <th>0</th>\n",
       "      <td>49.260812</td>\n",
       "      <td>-123.125736</td>\n",
       "      <td>2020-03-20T18:22:12.000-07:00</td>\n",
       "      <td>cafe</td>\n",
       "      <td>Starbucks</td>\n",
       "      <td>{'brand:wikidata': 'Q37158', 'official_name': ...</td>\n",
       "      <td>False</td>\n",
       "      <td>False</td>\n",
       "    </tr>\n",
       "    <tr>\n",
       "      <th>1</th>\n",
       "      <td>49.260953</td>\n",
       "      <td>-123.125704</td>\n",
       "      <td>2019-08-02T18:11:20.000-07:00</td>\n",
       "      <td>fast_food</td>\n",
       "      <td>Salad Loop</td>\n",
       "      <td>{'opening_hours': 'Mo-Fr 07:00-17:00; Sa 10:00...</td>\n",
       "      <td>False</td>\n",
       "      <td>False</td>\n",
       "    </tr>\n",
       "    <tr>\n",
       "      <th>3</th>\n",
       "      <td>49.249848</td>\n",
       "      <td>-122.959708</td>\n",
       "      <td>2011-09-06T03:52:10.000-07:00</td>\n",
       "      <td>bbq</td>\n",
       "      <td>NaN</td>\n",
       "      <td>{}</td>\n",
       "      <td>False</td>\n",
       "      <td>False</td>\n",
       "    </tr>\n",
       "    <tr>\n",
       "      <th>4</th>\n",
       "      <td>49.370898</td>\n",
       "      <td>-123.280448</td>\n",
       "      <td>2015-05-03T00:42:25.000-07:00</td>\n",
       "      <td>place_of_worship</td>\n",
       "      <td>St. Monica's Anglican Church</td>\n",
       "      <td>{'addr:housenumber': '6404', 'addr:street': 'W...</td>\n",
       "      <td>False</td>\n",
       "      <td>False</td>\n",
       "    </tr>\n",
       "    <tr>\n",
       "      <th>5</th>\n",
       "      <td>49.219983</td>\n",
       "      <td>-122.988481</td>\n",
       "      <td>2010-02-26T02:20:23.000-08:00</td>\n",
       "      <td>post_box</td>\n",
       "      <td>NaN</td>\n",
       "      <td>{'operator': 'Canada Post'}</td>\n",
       "      <td>False</td>\n",
       "      <td>False</td>\n",
       "    </tr>\n",
       "    <tr>\n",
       "      <th>...</th>\n",
       "      <td>...</td>\n",
       "      <td>...</td>\n",
       "      <td>...</td>\n",
       "      <td>...</td>\n",
       "      <td>...</td>\n",
       "      <td>...</td>\n",
       "      <td>...</td>\n",
       "      <td>...</td>\n",
       "    </tr>\n",
       "    <tr>\n",
       "      <th>17713</th>\n",
       "      <td>49.278424</td>\n",
       "      <td>-122.806704</td>\n",
       "      <td>2013-03-26T23:45:49.000-07:00</td>\n",
       "      <td>cafe</td>\n",
       "      <td>Creekside Coffee</td>\n",
       "      <td>{}</td>\n",
       "      <td>False</td>\n",
       "      <td>False</td>\n",
       "    </tr>\n",
       "    <tr>\n",
       "      <th>17714</th>\n",
       "      <td>49.278770</td>\n",
       "      <td>-122.797628</td>\n",
       "      <td>2013-03-26T23:45:49.000-07:00</td>\n",
       "      <td>restaurant</td>\n",
       "      <td>Togo Sushi</td>\n",
       "      <td>{'cuisine': 'japanese'}</td>\n",
       "      <td>False</td>\n",
       "      <td>False</td>\n",
       "    </tr>\n",
       "    <tr>\n",
       "      <th>17715</th>\n",
       "      <td>49.276443</td>\n",
       "      <td>-122.790138</td>\n",
       "      <td>2013-03-26T23:45:50.000-07:00</td>\n",
       "      <td>parking</td>\n",
       "      <td>NaN</td>\n",
       "      <td>{}</td>\n",
       "      <td>False</td>\n",
       "      <td>False</td>\n",
       "    </tr>\n",
       "    <tr>\n",
       "      <th>17716</th>\n",
       "      <td>49.282666</td>\n",
       "      <td>-122.826978</td>\n",
       "      <td>2019-09-13T13:56:49.000-07:00</td>\n",
       "      <td>pub</td>\n",
       "      <td>Brown's Social House</td>\n",
       "      <td>{'addr:housenumber': '215', 'brewery': 'Guinne...</td>\n",
       "      <td>False</td>\n",
       "      <td>False</td>\n",
       "    </tr>\n",
       "    <tr>\n",
       "      <th>17717</th>\n",
       "      <td>49.282420</td>\n",
       "      <td>-122.826340</td>\n",
       "      <td>2019-09-13T13:56:49.000-07:00</td>\n",
       "      <td>cafe</td>\n",
       "      <td>Gallagher's Cafe</td>\n",
       "      <td>{'addr:housenumber': '232', 'internet_access':...</td>\n",
       "      <td>False</td>\n",
       "      <td>False</td>\n",
       "    </tr>\n",
       "  </tbody>\n",
       "</table>\n",
       "<p>12303 rows × 8 columns</p>\n",
       "</div>"
      ],
      "text/plain": [
       "             lat         lon                      timestamp           amenity  \\\n",
       "0      49.260812 -123.125736  2020-03-20T18:22:12.000-07:00              cafe   \n",
       "1      49.260953 -123.125704  2019-08-02T18:11:20.000-07:00         fast_food   \n",
       "3      49.249848 -122.959708  2011-09-06T03:52:10.000-07:00               bbq   \n",
       "4      49.370898 -123.280448  2015-05-03T00:42:25.000-07:00  place_of_worship   \n",
       "5      49.219983 -122.988481  2010-02-26T02:20:23.000-08:00          post_box   \n",
       "...          ...         ...                            ...               ...   \n",
       "17713  49.278424 -122.806704  2013-03-26T23:45:49.000-07:00              cafe   \n",
       "17714  49.278770 -122.797628  2013-03-26T23:45:49.000-07:00        restaurant   \n",
       "17715  49.276443 -122.790138  2013-03-26T23:45:50.000-07:00           parking   \n",
       "17716  49.282666 -122.826978  2019-09-13T13:56:49.000-07:00               pub   \n",
       "17717  49.282420 -122.826340  2019-09-13T13:56:49.000-07:00              cafe   \n",
       "\n",
       "                               name  \\\n",
       "0                         Starbucks   \n",
       "1                        Salad Loop   \n",
       "3                               NaN   \n",
       "4      St. Monica's Anglican Church   \n",
       "5                               NaN   \n",
       "...                             ...   \n",
       "17713              Creekside Coffee   \n",
       "17714                    Togo Sushi   \n",
       "17715                           NaN   \n",
       "17716          Brown's Social House   \n",
       "17717              Gallagher's Cafe   \n",
       "\n",
       "                                                    tags  is_common  \\\n",
       "0      {'brand:wikidata': 'Q37158', 'official_name': ...      False   \n",
       "1      {'opening_hours': 'Mo-Fr 07:00-17:00; Sa 10:00...      False   \n",
       "3                                                     {}      False   \n",
       "4      {'addr:housenumber': '6404', 'addr:street': 'W...      False   \n",
       "5                            {'operator': 'Canada Post'}      False   \n",
       "...                                                  ...        ...   \n",
       "17713                                                 {}      False   \n",
       "17714                            {'cuisine': 'japanese'}      False   \n",
       "17715                                                 {}      False   \n",
       "17716  {'addr:housenumber': '215', 'brewery': 'Guinne...      False   \n",
       "17717  {'addr:housenumber': '232', 'internet_access':...      False   \n",
       "\n",
       "       is_tourism  \n",
       "0           False  \n",
       "1           False  \n",
       "3           False  \n",
       "4           False  \n",
       "5           False  \n",
       "...           ...  \n",
       "17713       False  \n",
       "17714       False  \n",
       "17715       False  \n",
       "17716       False  \n",
       "17717       False  \n",
       "\n",
       "[12303 rows x 8 columns]"
      ]
     },
     "execution_count": 13,
     "metadata": {},
     "output_type": "execute_result"
    }
   ],
   "source": [
    "df[(df['is_common'] == False) | (df['is_tourism'] == True)]"
   ]
  },
  {
   "cell_type": "code",
   "execution_count": 14,
   "metadata": {},
   "outputs": [],
   "source": [
    "df['is_interesting'] = (df['is_common'] == False) | (df['is_tourism'] == True)"
   ]
  },
  {
   "cell_type": "code",
   "execution_count": 15,
   "metadata": {},
   "outputs": [
    {
     "name": "stdout",
     "output_type": "stream",
     "text": [
      "                               lat  lon  timestamp  amenity  tags  is_common  \\\n",
      "name                                                                           \n",
      "2001 Flavors                     1    1          1        1     1          1   \n",
      "24 Train Express Noodle House    1    1          1        1     1          1   \n",
      "4 Brothers' Pizza                1    1          1        1     1          1   \n",
      "76 Pizza                         1    1          1        1     1          1   \n",
      "99 Bbq                           1    1          1        1     1          1   \n",
      "...                            ...  ...        ...      ...   ...        ...   \n",
      "ono's of Japan                   1    1          1        1     1          1   \n",
      "panago                           1    1          1        1     1          1   \n",
      "rasoee                           1    1          1        1     1          1   \n",
      "strEATS Aldergrove               1    1          1        1     1          1   \n",
      "敘香園                              1    1          1        1     1          1   \n",
      "\n",
      "                               is_tourism  is_interesting  \n",
      "name                                                       \n",
      "2001 Flavors                            1               1  \n",
      "24 Train Express Noodle House           1               1  \n",
      "4 Brothers' Pizza                       1               1  \n",
      "76 Pizza                                1               1  \n",
      "99 Bbq                                  1               1  \n",
      "...                                   ...             ...  \n",
      "ono's of Japan                          1               1  \n",
      "panago                                  1               1  \n",
      "rasoee                                  1               1  \n",
      "strEATS Aldergrove                      1               1  \n",
      "敘香園                                     1               1  \n",
      "\n",
      "[497 rows x 8 columns]\n"
     ]
    }
   ],
   "source": [
    "pd.set_option('display.max_rows', 10)\n",
    "print(df[df['amenity'] == 'fast_food'].groupby('name').count())\n",
    "pd.set_option('display.max_rows', 10)"
   ]
  },
  {
   "cell_type": "code",
   "execution_count": 16,
   "metadata": {},
   "outputs": [],
   "source": [
    "path_points = pd.read_csv('path.csv')"
   ]
  },
  {
   "cell_type": "code",
   "execution_count": 17,
   "metadata": {},
   "outputs": [
    {
     "data": {
      "text/html": [
       "<div>\n",
       "<style scoped>\n",
       "    .dataframe tbody tr th:only-of-type {\n",
       "        vertical-align: middle;\n",
       "    }\n",
       "\n",
       "    .dataframe tbody tr th {\n",
       "        vertical-align: top;\n",
       "    }\n",
       "\n",
       "    .dataframe thead th {\n",
       "        text-align: right;\n",
       "    }\n",
       "</style>\n",
       "<table border=\"1\" class=\"dataframe\">\n",
       "  <thead>\n",
       "    <tr style=\"text-align: right;\">\n",
       "      <th></th>\n",
       "      <th>lat</th>\n",
       "      <th>lon</th>\n",
       "    </tr>\n",
       "  </thead>\n",
       "  <tbody>\n",
       "    <tr>\n",
       "      <th>0</th>\n",
       "      <td>49.28548</td>\n",
       "      <td>-123.11959</td>\n",
       "    </tr>\n",
       "    <tr>\n",
       "      <th>1</th>\n",
       "      <td>49.28453</td>\n",
       "      <td>-123.12116</td>\n",
       "    </tr>\n",
       "    <tr>\n",
       "      <th>2</th>\n",
       "      <td>49.28372</td>\n",
       "      <td>-123.12018</td>\n",
       "    </tr>\n",
       "    <tr>\n",
       "      <th>3</th>\n",
       "      <td>49.28316</td>\n",
       "      <td>-123.11906</td>\n",
       "    </tr>\n",
       "    <tr>\n",
       "      <th>4</th>\n",
       "      <td>49.28247</td>\n",
       "      <td>-123.11816</td>\n",
       "    </tr>\n",
       "    <tr>\n",
       "      <th>...</th>\n",
       "      <td>...</td>\n",
       "      <td>...</td>\n",
       "    </tr>\n",
       "    <tr>\n",
       "      <th>32</th>\n",
       "      <td>49.28208</td>\n",
       "      <td>-123.09822</td>\n",
       "    </tr>\n",
       "    <tr>\n",
       "      <th>33</th>\n",
       "      <td>49.28226</td>\n",
       "      <td>-123.09751</td>\n",
       "    </tr>\n",
       "    <tr>\n",
       "      <th>34</th>\n",
       "      <td>49.28311</td>\n",
       "      <td>-123.09749</td>\n",
       "    </tr>\n",
       "    <tr>\n",
       "      <th>35</th>\n",
       "      <td>49.28398</td>\n",
       "      <td>-123.09787</td>\n",
       "    </tr>\n",
       "    <tr>\n",
       "      <th>36</th>\n",
       "      <td>49.28421</td>\n",
       "      <td>-123.09773</td>\n",
       "    </tr>\n",
       "  </tbody>\n",
       "</table>\n",
       "<p>37 rows × 2 columns</p>\n",
       "</div>"
      ],
      "text/plain": [
       "         lat        lon\n",
       "0   49.28548 -123.11959\n",
       "1   49.28453 -123.12116\n",
       "2   49.28372 -123.12018\n",
       "3   49.28316 -123.11906\n",
       "4   49.28247 -123.11816\n",
       "..       ...        ...\n",
       "32  49.28208 -123.09822\n",
       "33  49.28226 -123.09751\n",
       "34  49.28311 -123.09749\n",
       "35  49.28398 -123.09787\n",
       "36  49.28421 -123.09773\n",
       "\n",
       "[37 rows x 2 columns]"
      ]
     },
     "execution_count": 17,
     "metadata": {},
     "output_type": "execute_result"
    }
   ],
   "source": [
    "path_points"
   ]
  },
  {
   "cell_type": "code",
   "execution_count": 18,
   "metadata": {
    "scrolled": true
   },
   "outputs": [
    {
     "data": {
      "text/html": [
       "<div>\n",
       "<style scoped>\n",
       "    .dataframe tbody tr th:only-of-type {\n",
       "        vertical-align: middle;\n",
       "    }\n",
       "\n",
       "    .dataframe tbody tr th {\n",
       "        vertical-align: top;\n",
       "    }\n",
       "\n",
       "    .dataframe thead th {\n",
       "        text-align: right;\n",
       "    }\n",
       "</style>\n",
       "<table border=\"1\" class=\"dataframe\">\n",
       "  <thead>\n",
       "    <tr style=\"text-align: right;\">\n",
       "      <th></th>\n",
       "      <th>lat</th>\n",
       "      <th>lon</th>\n",
       "      <th>timestamp</th>\n",
       "      <th>amenity</th>\n",
       "      <th>name</th>\n",
       "      <th>tags</th>\n",
       "      <th>is_common</th>\n",
       "      <th>is_tourism</th>\n",
       "      <th>is_interesting</th>\n",
       "    </tr>\n",
       "  </thead>\n",
       "  <tbody>\n",
       "    <tr>\n",
       "      <th>0</th>\n",
       "      <td>49.260812</td>\n",
       "      <td>-123.125736</td>\n",
       "      <td>2020-03-20T18:22:12.000-07:00</td>\n",
       "      <td>cafe</td>\n",
       "      <td>Starbucks</td>\n",
       "      <td>{'brand:wikidata': 'Q37158', 'official_name': ...</td>\n",
       "      <td>False</td>\n",
       "      <td>False</td>\n",
       "      <td>True</td>\n",
       "    </tr>\n",
       "    <tr>\n",
       "      <th>1</th>\n",
       "      <td>49.260953</td>\n",
       "      <td>-123.125704</td>\n",
       "      <td>2019-08-02T18:11:20.000-07:00</td>\n",
       "      <td>fast_food</td>\n",
       "      <td>Salad Loop</td>\n",
       "      <td>{'opening_hours': 'Mo-Fr 07:00-17:00; Sa 10:00...</td>\n",
       "      <td>False</td>\n",
       "      <td>False</td>\n",
       "      <td>True</td>\n",
       "    </tr>\n",
       "    <tr>\n",
       "      <th>3</th>\n",
       "      <td>49.249848</td>\n",
       "      <td>-122.959708</td>\n",
       "      <td>2011-09-06T03:52:10.000-07:00</td>\n",
       "      <td>bbq</td>\n",
       "      <td>NaN</td>\n",
       "      <td>{}</td>\n",
       "      <td>False</td>\n",
       "      <td>False</td>\n",
       "      <td>True</td>\n",
       "    </tr>\n",
       "    <tr>\n",
       "      <th>4</th>\n",
       "      <td>49.370898</td>\n",
       "      <td>-123.280448</td>\n",
       "      <td>2015-05-03T00:42:25.000-07:00</td>\n",
       "      <td>place_of_worship</td>\n",
       "      <td>St. Monica's Anglican Church</td>\n",
       "      <td>{'addr:housenumber': '6404', 'addr:street': 'W...</td>\n",
       "      <td>False</td>\n",
       "      <td>False</td>\n",
       "      <td>True</td>\n",
       "    </tr>\n",
       "    <tr>\n",
       "      <th>5</th>\n",
       "      <td>49.219983</td>\n",
       "      <td>-122.988481</td>\n",
       "      <td>2010-02-26T02:20:23.000-08:00</td>\n",
       "      <td>post_box</td>\n",
       "      <td>NaN</td>\n",
       "      <td>{'operator': 'Canada Post'}</td>\n",
       "      <td>False</td>\n",
       "      <td>False</td>\n",
       "      <td>True</td>\n",
       "    </tr>\n",
       "    <tr>\n",
       "      <th>...</th>\n",
       "      <td>...</td>\n",
       "      <td>...</td>\n",
       "      <td>...</td>\n",
       "      <td>...</td>\n",
       "      <td>...</td>\n",
       "      <td>...</td>\n",
       "      <td>...</td>\n",
       "      <td>...</td>\n",
       "      <td>...</td>\n",
       "    </tr>\n",
       "    <tr>\n",
       "      <th>17713</th>\n",
       "      <td>49.278424</td>\n",
       "      <td>-122.806704</td>\n",
       "      <td>2013-03-26T23:45:49.000-07:00</td>\n",
       "      <td>cafe</td>\n",
       "      <td>Creekside Coffee</td>\n",
       "      <td>{}</td>\n",
       "      <td>False</td>\n",
       "      <td>False</td>\n",
       "      <td>True</td>\n",
       "    </tr>\n",
       "    <tr>\n",
       "      <th>17714</th>\n",
       "      <td>49.278770</td>\n",
       "      <td>-122.797628</td>\n",
       "      <td>2013-03-26T23:45:49.000-07:00</td>\n",
       "      <td>restaurant</td>\n",
       "      <td>Togo Sushi</td>\n",
       "      <td>{'cuisine': 'japanese'}</td>\n",
       "      <td>False</td>\n",
       "      <td>False</td>\n",
       "      <td>True</td>\n",
       "    </tr>\n",
       "    <tr>\n",
       "      <th>17715</th>\n",
       "      <td>49.276443</td>\n",
       "      <td>-122.790138</td>\n",
       "      <td>2013-03-26T23:45:50.000-07:00</td>\n",
       "      <td>parking</td>\n",
       "      <td>NaN</td>\n",
       "      <td>{}</td>\n",
       "      <td>False</td>\n",
       "      <td>False</td>\n",
       "      <td>True</td>\n",
       "    </tr>\n",
       "    <tr>\n",
       "      <th>17716</th>\n",
       "      <td>49.282666</td>\n",
       "      <td>-122.826978</td>\n",
       "      <td>2019-09-13T13:56:49.000-07:00</td>\n",
       "      <td>pub</td>\n",
       "      <td>Brown's Social House</td>\n",
       "      <td>{'addr:housenumber': '215', 'brewery': 'Guinne...</td>\n",
       "      <td>False</td>\n",
       "      <td>False</td>\n",
       "      <td>True</td>\n",
       "    </tr>\n",
       "    <tr>\n",
       "      <th>17717</th>\n",
       "      <td>49.282420</td>\n",
       "      <td>-122.826340</td>\n",
       "      <td>2019-09-13T13:56:49.000-07:00</td>\n",
       "      <td>cafe</td>\n",
       "      <td>Gallagher's Cafe</td>\n",
       "      <td>{'addr:housenumber': '232', 'internet_access':...</td>\n",
       "      <td>False</td>\n",
       "      <td>False</td>\n",
       "      <td>True</td>\n",
       "    </tr>\n",
       "  </tbody>\n",
       "</table>\n",
       "<p>12303 rows × 9 columns</p>\n",
       "</div>"
      ],
      "text/plain": [
       "             lat         lon                      timestamp           amenity  \\\n",
       "0      49.260812 -123.125736  2020-03-20T18:22:12.000-07:00              cafe   \n",
       "1      49.260953 -123.125704  2019-08-02T18:11:20.000-07:00         fast_food   \n",
       "3      49.249848 -122.959708  2011-09-06T03:52:10.000-07:00               bbq   \n",
       "4      49.370898 -123.280448  2015-05-03T00:42:25.000-07:00  place_of_worship   \n",
       "5      49.219983 -122.988481  2010-02-26T02:20:23.000-08:00          post_box   \n",
       "...          ...         ...                            ...               ...   \n",
       "17713  49.278424 -122.806704  2013-03-26T23:45:49.000-07:00              cafe   \n",
       "17714  49.278770 -122.797628  2013-03-26T23:45:49.000-07:00        restaurant   \n",
       "17715  49.276443 -122.790138  2013-03-26T23:45:50.000-07:00           parking   \n",
       "17716  49.282666 -122.826978  2019-09-13T13:56:49.000-07:00               pub   \n",
       "17717  49.282420 -122.826340  2019-09-13T13:56:49.000-07:00              cafe   \n",
       "\n",
       "                               name  \\\n",
       "0                         Starbucks   \n",
       "1                        Salad Loop   \n",
       "3                               NaN   \n",
       "4      St. Monica's Anglican Church   \n",
       "5                               NaN   \n",
       "...                             ...   \n",
       "17713              Creekside Coffee   \n",
       "17714                    Togo Sushi   \n",
       "17715                           NaN   \n",
       "17716          Brown's Social House   \n",
       "17717              Gallagher's Cafe   \n",
       "\n",
       "                                                    tags  is_common  \\\n",
       "0      {'brand:wikidata': 'Q37158', 'official_name': ...      False   \n",
       "1      {'opening_hours': 'Mo-Fr 07:00-17:00; Sa 10:00...      False   \n",
       "3                                                     {}      False   \n",
       "4      {'addr:housenumber': '6404', 'addr:street': 'W...      False   \n",
       "5                            {'operator': 'Canada Post'}      False   \n",
       "...                                                  ...        ...   \n",
       "17713                                                 {}      False   \n",
       "17714                            {'cuisine': 'japanese'}      False   \n",
       "17715                                                 {}      False   \n",
       "17716  {'addr:housenumber': '215', 'brewery': 'Guinne...      False   \n",
       "17717  {'addr:housenumber': '232', 'internet_access':...      False   \n",
       "\n",
       "       is_tourism  is_interesting  \n",
       "0           False            True  \n",
       "1           False            True  \n",
       "3           False            True  \n",
       "4           False            True  \n",
       "5           False            True  \n",
       "...           ...             ...  \n",
       "17713       False            True  \n",
       "17714       False            True  \n",
       "17715       False            True  \n",
       "17716       False            True  \n",
       "17717       False            True  \n",
       "\n",
       "[12303 rows x 9 columns]"
      ]
     },
     "execution_count": 18,
     "metadata": {},
     "output_type": "execute_result"
    }
   ],
   "source": [
    "df[df['is_interesting'] == True]"
   ]
  },
  {
   "cell_type": "code",
   "execution_count": 19,
   "metadata": {},
   "outputs": [],
   "source": [
    "interesting_amenities = df[df['is_interesting'] == True]"
   ]
  },
  {
   "cell_type": "code",
   "execution_count": 20,
   "metadata": {},
   "outputs": [],
   "source": [
    "interesting_amenities.to_csv('interesting_amenities.csv')"
   ]
  },
  {
   "cell_type": "code",
   "execution_count": 21,
   "metadata": {},
   "outputs": [],
   "source": [
    "def distance(amenity, points):\n",
    "    lat1 = amenity['lat']\n",
    "    lat2 = points['lat']\n",
    "    lon1 = amenity['lon']\n",
    "    lon2 = points['lon']\n",
    "    p = np.pi/180\n",
    "    b = np.cos((lat2.sub(lat1)).mul(p)).div(2) #series\n",
    "    c = np.cos(lat1*p) #number\n",
    "    d = np.cos(lat2.mul(p)) #series\n",
    "    e = np.subtract(1,np.cos((lon2.sub(lon1)).mul(p))).div(2) #series\n",
    "    a = np.subtract(0.5, b).add((d.mul(c)).mul(e))\n",
    "    \n",
    "    distances = np.arcsin(np.sqrt(a)).mul(12742)\n",
    "    nearest = distances.min()\n",
    "    \n",
    "    return nearest\n",
    "# https://stackoverflow.com/a/21623206"
   ]
  },
  {
   "cell_type": "code",
   "execution_count": 22,
   "metadata": {},
   "outputs": [
    {
     "data": {
      "text/plain": [
       "10.628604207247239"
      ]
     },
     "execution_count": 22,
     "metadata": {},
     "output_type": "execute_result"
    }
   ],
   "source": [
    "distance(interesting_amenities.iloc[2], path_points)"
   ]
  },
  {
   "cell_type": "code",
   "execution_count": 23,
   "metadata": {},
   "outputs": [
    {
     "name": "stderr",
     "output_type": "stream",
     "text": [
      "C:\\Users\\Administrator\\anaconda3\\lib\\site-packages\\ipykernel_launcher.py:1: SettingWithCopyWarning: \n",
      "A value is trying to be set on a copy of a slice from a DataFrame.\n",
      "Try using .loc[row_indexer,col_indexer] = value instead\n",
      "\n",
      "See the caveats in the documentation: https://pandas.pydata.org/pandas-docs/stable/user_guide/indexing.html#returning-a-view-versus-a-copy\n",
      "  \"\"\"Entry point for launching an IPython kernel.\n"
     ]
    }
   ],
   "source": [
    "interesting_amenities['nearest_point_distance'] = interesting_amenities.apply(lambda x: distance(x, path_points), axis=1)"
   ]
  },
  {
   "cell_type": "code",
   "execution_count": 24,
   "metadata": {},
   "outputs": [
    {
     "data": {
      "text/html": [
       "<div>\n",
       "<style scoped>\n",
       "    .dataframe tbody tr th:only-of-type {\n",
       "        vertical-align: middle;\n",
       "    }\n",
       "\n",
       "    .dataframe tbody tr th {\n",
       "        vertical-align: top;\n",
       "    }\n",
       "\n",
       "    .dataframe thead th {\n",
       "        text-align: right;\n",
       "    }\n",
       "</style>\n",
       "<table border=\"1\" class=\"dataframe\">\n",
       "  <thead>\n",
       "    <tr style=\"text-align: right;\">\n",
       "      <th></th>\n",
       "      <th>lat</th>\n",
       "      <th>lon</th>\n",
       "      <th>timestamp</th>\n",
       "      <th>amenity</th>\n",
       "      <th>name</th>\n",
       "      <th>tags</th>\n",
       "      <th>is_common</th>\n",
       "      <th>is_tourism</th>\n",
       "      <th>is_interesting</th>\n",
       "      <th>nearest_point_distance</th>\n",
       "    </tr>\n",
       "  </thead>\n",
       "  <tbody>\n",
       "    <tr>\n",
       "      <th>16</th>\n",
       "      <td>49.283192</td>\n",
       "      <td>-123.109050</td>\n",
       "      <td>2015-12-18T21:41:07.000-08:00</td>\n",
       "      <td>pub</td>\n",
       "      <td>The Cambie</td>\n",
       "      <td>{'toilets:wheelchair': 'no', 'wheelchair': 'li...</td>\n",
       "      <td>False</td>\n",
       "      <td>False</td>\n",
       "      <td>True</td>\n",
       "      <td>0.043624</td>\n",
       "    </tr>\n",
       "    <tr>\n",
       "      <th>74</th>\n",
       "      <td>49.280504</td>\n",
       "      <td>-123.106872</td>\n",
       "      <td>2019-12-01T04:03:46.000-08:00</td>\n",
       "      <td>theatre</td>\n",
       "      <td>Cineplex Odeon International Village Cinemas</td>\n",
       "      <td>{'addr:housenumber': '88', 'alt_name': 'Tinsel...</td>\n",
       "      <td>False</td>\n",
       "      <td>False</td>\n",
       "      <td>True</td>\n",
       "      <td>0.026294</td>\n",
       "    </tr>\n",
       "    <tr>\n",
       "      <th>304</th>\n",
       "      <td>49.283265</td>\n",
       "      <td>-123.097896</td>\n",
       "      <td>2019-09-13T13:57:03.000-07:00</td>\n",
       "      <td>restaurant</td>\n",
       "      <td>St Lawrence Restaurant</td>\n",
       "      <td>{'addr:housenumber': '269', 'addr:street': 'Po...</td>\n",
       "      <td>False</td>\n",
       "      <td>False</td>\n",
       "      <td>True</td>\n",
       "      <td>0.034137</td>\n",
       "    </tr>\n",
       "    <tr>\n",
       "      <th>305</th>\n",
       "      <td>49.283288</td>\n",
       "      <td>-123.098074</td>\n",
       "      <td>2019-09-13T13:57:03.000-07:00</td>\n",
       "      <td>restaurant</td>\n",
       "      <td>Cuhillo</td>\n",
       "      <td>{'addr:housenumber': '261', 'addr:street': 'Po...</td>\n",
       "      <td>False</td>\n",
       "      <td>False</td>\n",
       "      <td>True</td>\n",
       "      <td>0.046770</td>\n",
       "    </tr>\n",
       "    <tr>\n",
       "      <th>311</th>\n",
       "      <td>49.283164</td>\n",
       "      <td>-123.103531</td>\n",
       "      <td>2019-09-13T13:57:04.000-07:00</td>\n",
       "      <td>restaurant</td>\n",
       "      <td>The Sardine Can</td>\n",
       "      <td>{'addr:housenumber': '26', 'addr:street': 'Pow...</td>\n",
       "      <td>False</td>\n",
       "      <td>False</td>\n",
       "      <td>True</td>\n",
       "      <td>0.048759</td>\n",
       "    </tr>\n",
       "    <tr>\n",
       "      <th>...</th>\n",
       "      <td>...</td>\n",
       "      <td>...</td>\n",
       "      <td>...</td>\n",
       "      <td>...</td>\n",
       "      <td>...</td>\n",
       "      <td>...</td>\n",
       "      <td>...</td>\n",
       "      <td>...</td>\n",
       "      <td>...</td>\n",
       "      <td>...</td>\n",
       "    </tr>\n",
       "    <tr>\n",
       "      <th>16504</th>\n",
       "      <td>49.281911</td>\n",
       "      <td>-123.113501</td>\n",
       "      <td>2019-09-13T13:56:49.000-07:00</td>\n",
       "      <td>restaurant</td>\n",
       "      <td>White Spot</td>\n",
       "      <td>{'brand:wikidata': 'Q7995414', 'wheelchair': '...</td>\n",
       "      <td>False</td>\n",
       "      <td>False</td>\n",
       "      <td>True</td>\n",
       "      <td>0.029347</td>\n",
       "    </tr>\n",
       "    <tr>\n",
       "      <th>16609</th>\n",
       "      <td>49.282122</td>\n",
       "      <td>-123.112999</td>\n",
       "      <td>2018-07-04T23:52:14.000-07:00</td>\n",
       "      <td>charging_station</td>\n",
       "      <td>NaN</td>\n",
       "      <td>{'capacity': '2'}</td>\n",
       "      <td>False</td>\n",
       "      <td>False</td>\n",
       "      <td>True</td>\n",
       "      <td>0.052734</td>\n",
       "    </tr>\n",
       "    <tr>\n",
       "      <th>16610</th>\n",
       "      <td>49.282186</td>\n",
       "      <td>-123.112894</td>\n",
       "      <td>2018-07-04T23:52:14.000-07:00</td>\n",
       "      <td>charging_station</td>\n",
       "      <td>NaN</td>\n",
       "      <td>{'capacity': '2'}</td>\n",
       "      <td>False</td>\n",
       "      <td>False</td>\n",
       "      <td>True</td>\n",
       "      <td>0.042646</td>\n",
       "    </tr>\n",
       "    <tr>\n",
       "      <th>16713</th>\n",
       "      <td>49.283619</td>\n",
       "      <td>-123.119488</td>\n",
       "      <td>2014-07-03T08:34:42.000-07:00</td>\n",
       "      <td>bank</td>\n",
       "      <td>HSBC Bank Canada</td>\n",
       "      <td>{}</td>\n",
       "      <td>False</td>\n",
       "      <td>False</td>\n",
       "      <td>True</td>\n",
       "      <td>0.051432</td>\n",
       "    </tr>\n",
       "    <tr>\n",
       "      <th>17541</th>\n",
       "      <td>49.279418</td>\n",
       "      <td>-123.120599</td>\n",
       "      <td>2019-12-08T21:01:09.000-08:00</td>\n",
       "      <td>restaurant</td>\n",
       "      <td>Cibo Trattora</td>\n",
       "      <td>{'opening_hours:signed': 'no', 'cuisine': 'ita...</td>\n",
       "      <td>False</td>\n",
       "      <td>False</td>\n",
       "      <td>True</td>\n",
       "      <td>0.028955</td>\n",
       "    </tr>\n",
       "  </tbody>\n",
       "</table>\n",
       "<p>379 rows × 10 columns</p>\n",
       "</div>"
      ],
      "text/plain": [
       "             lat         lon                      timestamp           amenity  \\\n",
       "16     49.283192 -123.109050  2015-12-18T21:41:07.000-08:00               pub   \n",
       "74     49.280504 -123.106872  2019-12-01T04:03:46.000-08:00           theatre   \n",
       "304    49.283265 -123.097896  2019-09-13T13:57:03.000-07:00        restaurant   \n",
       "305    49.283288 -123.098074  2019-09-13T13:57:03.000-07:00        restaurant   \n",
       "311    49.283164 -123.103531  2019-09-13T13:57:04.000-07:00        restaurant   \n",
       "...          ...         ...                            ...               ...   \n",
       "16504  49.281911 -123.113501  2019-09-13T13:56:49.000-07:00        restaurant   \n",
       "16609  49.282122 -123.112999  2018-07-04T23:52:14.000-07:00  charging_station   \n",
       "16610  49.282186 -123.112894  2018-07-04T23:52:14.000-07:00  charging_station   \n",
       "16713  49.283619 -123.119488  2014-07-03T08:34:42.000-07:00              bank   \n",
       "17541  49.279418 -123.120599  2019-12-08T21:01:09.000-08:00        restaurant   \n",
       "\n",
       "                                               name  \\\n",
       "16                                       The Cambie   \n",
       "74     Cineplex Odeon International Village Cinemas   \n",
       "304                          St Lawrence Restaurant   \n",
       "305                                         Cuhillo   \n",
       "311                                 The Sardine Can   \n",
       "...                                             ...   \n",
       "16504                                    White Spot   \n",
       "16609                                           NaN   \n",
       "16610                                           NaN   \n",
       "16713                              HSBC Bank Canada   \n",
       "17541                                 Cibo Trattora   \n",
       "\n",
       "                                                    tags  is_common  \\\n",
       "16     {'toilets:wheelchair': 'no', 'wheelchair': 'li...      False   \n",
       "74     {'addr:housenumber': '88', 'alt_name': 'Tinsel...      False   \n",
       "304    {'addr:housenumber': '269', 'addr:street': 'Po...      False   \n",
       "305    {'addr:housenumber': '261', 'addr:street': 'Po...      False   \n",
       "311    {'addr:housenumber': '26', 'addr:street': 'Pow...      False   \n",
       "...                                                  ...        ...   \n",
       "16504  {'brand:wikidata': 'Q7995414', 'wheelchair': '...      False   \n",
       "16609                                  {'capacity': '2'}      False   \n",
       "16610                                  {'capacity': '2'}      False   \n",
       "16713                                                 {}      False   \n",
       "17541  {'opening_hours:signed': 'no', 'cuisine': 'ita...      False   \n",
       "\n",
       "       is_tourism  is_interesting  nearest_point_distance  \n",
       "16          False            True                0.043624  \n",
       "74          False            True                0.026294  \n",
       "304         False            True                0.034137  \n",
       "305         False            True                0.046770  \n",
       "311         False            True                0.048759  \n",
       "...           ...             ...                     ...  \n",
       "16504       False            True                0.029347  \n",
       "16609       False            True                0.052734  \n",
       "16610       False            True                0.042646  \n",
       "16713       False            True                0.051432  \n",
       "17541       False            True                0.028955  \n",
       "\n",
       "[379 rows x 10 columns]"
      ]
     },
     "execution_count": 24,
     "metadata": {},
     "output_type": "execute_result"
    }
   ],
   "source": [
    "nearby_amenities = interesting_amenities[interesting_amenities['nearest_point_distance'] < 0.1]\n",
    "nearby_amenities"
   ]
  },
  {
   "cell_type": "code",
   "execution_count": 44,
   "metadata": {},
   "outputs": [
    {
     "data": {
      "application/vnd.plotly.v1+json": {
       "config": {
        "plotlyServerURL": "https://plot.ly"
       },
       "data": [
        {
         "lat": [
          49.28548,
          49.28453,
          49.28372,
          49.283159999999995,
          49.28247,
          49.28182,
          49.28147,
          49.28004,
          49.28071,
          49.27967,
          49.27903,
          49.27854,
          49.27973,
          49.28058,
          49.28165,
          49.28236,
          49.282709999999994,
          49.2833,
          49.28239,
          49.283559999999994,
          49.284240000000004,
          49.283879999999996,
          49.28288,
          49.28188,
          49.28067,
          49.28063,
          49.28156,
          49.28244,
          49.2829,
          49.28325,
          49.284240000000004,
          49.28321,
          49.28208,
          49.28226,
          49.28311,
          49.28398,
          49.284209999999995
         ],
         "lon": [
          -123.11958999999999,
          -123.12116,
          -123.12018,
          -123.11906,
          -123.11816,
          -123.11719,
          -123.11666000000001,
          -123.11775,
          -123.11898000000001,
          -123.1205,
          -123.11946999999999,
          -123.11861,
          -123.11563000000001,
          -123.11518000000001,
          -123.11344,
          -123.11237,
          -123.11187,
          -123.11091,
          -123.10971,
          -123.10926,
          -123.10888999999999,
          -123.10645,
          -123.10692,
          -123.10726000000001,
          -123.10713,
          -123.10446999999999,
          -123.10445,
          -123.10425,
          -123.10413,
          -123.10418999999999,
          -123.10028,
          -123.10028,
          -123.09822,
          -123.09751000000001,
          -123.09749,
          -123.09787,
          -123.09773
         ],
         "marker": {
          "color": "rgb(255, 0, 0)",
          "opacity": 0.7,
          "size": 17
         },
         "mode": "lines",
         "type": "scattermapbox"
        },
        {
         "lat": [
          49.2831924,
          49.2805037,
          49.2832655,
          49.2832876,
          49.2831638,
          49.2836044,
          49.284169,
          49.2834234,
          49.2796591,
          49.2823937,
          49.2831626,
          49.2840053,
          49.2837046,
          49.2828105,
          49.2828279,
          49.2826816,
          49.2842686,
          49.2822713,
          49.2782142,
          49.2842068,
          49.2796325,
          49.2841519,
          49.2827166,
          49.2812192,
          49.2811332,
          49.2822828,
          49.2813057,
          49.2818471,
          49.2822043,
          49.280467,
          49.2808203,
          49.2802916,
          49.2838563,
          49.2832439,
          49.2826068,
          49.2799912,
          49.2814683,
          49.2843841,
          49.2842334,
          49.2798847,
          49.2799835,
          49.2800531,
          49.2800925,
          49.280725,
          49.2808969,
          49.2808034,
          49.2808098,
          49.280211800000004,
          49.280128500000004,
          49.2802068,
          49.2799281,
          49.2801333,
          49.2799047,
          49.2799553,
          49.2800166,
          49.2801753,
          49.2802143,
          49.2802598,
          49.280766,
          49.2807019,
          49.2846283,
          49.2810712,
          49.2821283,
          49.2820949,
          49.2841022,
          49.2841314,
          49.2829831,
          49.2835819,
          49.2832515,
          49.2814148,
          49.2815388,
          49.2821626,
          49.2829077,
          49.2837396,
          49.2838137,
          49.2831459,
          49.2799921,
          49.280322,
          49.2789586,
          49.2801553,
          49.2784178,
          49.282764,
          49.2823357,
          49.2827717,
          49.2831412,
          49.2849995,
          49.2795705,
          49.2799372,
          49.2792602,
          49.2794176,
          49.279512,
          49.2835624,
          49.2859297,
          49.2804019,
          49.2802512,
          49.2791098,
          49.279359,
          49.2793142,
          49.2862341,
          49.2805588,
          49.2792503,
          49.2810223,
          49.280963,
          49.28109,
          49.2808958,
          49.2807869,
          49.2810728,
          49.2814129,
          49.2820489,
          49.2827779,
          49.2821143,
          49.2819996,
          49.2786045,
          49.2824055,
          49.282596,
          49.282603,
          49.2824325,
          49.2827373,
          49.2807931,
          49.2817816,
          49.2800328,
          49.2838195,
          49.2847736,
          49.2846244,
          49.282623,
          49.2827131,
          49.2833178,
          49.2808593,
          49.2809141,
          49.2859796,
          49.2780186,
          49.282437,
          49.2832458,
          49.2833322,
          49.2817211,
          49.2797503,
          49.2828822,
          49.280533,
          49.2828919,
          49.2831979,
          49.2819445,
          49.2816397,
          49.2821778,
          49.2820098,
          49.2818025,
          49.2819026,
          49.2819933,
          49.2818951,
          49.2835903,
          49.2825674,
          49.2830665,
          49.2818272,
          49.283201,
          49.2840406,
          49.2838437,
          49.2822589,
          49.2812723,
          49.2826091,
          49.2841852,
          49.285251099999996,
          49.2851463,
          49.2822367,
          49.2801028,
          49.2824032,
          49.2823756,
          49.2826779,
          49.2818193,
          49.2837114,
          49.2852359,
          49.2814941,
          49.2829671,
          49.2793251,
          49.282101,
          49.2810287,
          49.2804382,
          49.2789992,
          49.2850423,
          49.2821882,
          49.2804271,
          49.2814195,
          49.2813066,
          49.2813314,
          49.2857165,
          49.2834375,
          49.2812059,
          49.2812215,
          49.2814523,
          49.2832215,
          49.2846624,
          49.2840148,
          49.2853135,
          49.2850045,
          49.285626,
          49.2845977,
          49.2840443,
          49.2841586,
          49.28285,
          49.2845626,
          49.2845775,
          49.2847075,
          49.2827611,
          49.2825011,
          49.2847649,
          49.2848332,
          49.285504,
          49.285292,
          49.2832216,
          49.2821875,
          49.2811524,
          49.2804032,
          49.2816641,
          49.2818739,
          49.2817273,
          49.2807258,
          49.2822856,
          49.280057,
          49.2799299,
          49.2796282,
          49.2792632,
          49.2831604,
          49.2833904,
          49.2862497,
          49.2819214,
          49.2801341,
          49.2794999,
          49.2802404,
          49.2801999,
          49.2801622,
          49.2798631,
          49.2852994,
          49.2841207,
          49.2836569,
          49.2830338,
          49.2820693,
          49.2824284,
          49.2847522,
          49.2792611,
          49.2793427,
          49.2825835,
          49.283151,
          49.2830557,
          49.2831498,
          49.2832144,
          49.2831781,
          49.2835553,
          49.2815586,
          49.28589,
          49.2836065,
          49.2822603,
          49.2826524,
          49.283182,
          49.2835325,
          49.2833843,
          49.2792111,
          49.2791142,
          49.2795971,
          49.2796191,
          49.2795681,
          49.2819069,
          49.2819085,
          49.2801019,
          49.2822308,
          49.2818936,
          49.281863799999996,
          49.2794992,
          49.2792972,
          49.2843035,
          49.2814612,
          49.2830756,
          49.2860715,
          49.2830556,
          49.2801415,
          49.2785788,
          49.2785643,
          49.2808906,
          49.2823544,
          49.2827091,
          49.282782,
          49.2823394,
          49.2803076,
          49.2823698,
          49.2825321,
          49.2818976,
          49.2848766,
          49.2793791,
          49.2827821,
          49.2825107,
          49.2829949,
          49.2829336,
          49.281653,
          49.283064,
          49.2817874,
          49.2805664,
          49.2818309,
          49.278592,
          49.2785319,
          49.2790983,
          49.2795532,
          49.2795102,
          49.2793594,
          49.2792847,
          49.2797903,
          49.2824894,
          49.2848628,
          49.2840486,
          49.2822989,
          49.2801564,
          49.2801809,
          49.2825678,
          49.2834894,
          49.2834975,
          49.2837533,
          49.2805173,
          49.2841913,
          49.2814547,
          49.280708,
          49.2819575,
          49.2820037,
          49.2839422,
          49.2799331,
          49.283799,
          49.2834916,
          49.2830491,
          49.2831514,
          49.2804152,
          49.280541,
          49.2801601,
          49.2810356,
          49.2810403,
          49.2820869,
          49.2819798,
          49.2819179,
          49.2803398,
          49.2839055,
          49.283846,
          49.2830143,
          49.2837399,
          49.2829428,
          49.2828092,
          49.2809701,
          49.2827946,
          49.2813538,
          49.2799366,
          49.28207,
          49.2819959,
          49.2823994,
          49.2799212,
          49.281145,
          49.2816298,
          49.2852025,
          49.279958,
          49.2822278,
          49.2821444,
          49.2812082,
          49.2819083,
          49.2794927,
          49.2788511,
          49.2821466,
          49.2828849,
          49.2835774,
          49.279869,
          49.2804285,
          49.2802899,
          49.2818502,
          49.2826468,
          49.2832374,
          49.2831716,
          49.2783771,
          49.282277,
          49.280096,
          49.2800803,
          49.2799591,
          49.2843874,
          49.2805251,
          49.2819109,
          49.2821222,
          49.2821862,
          49.2836188,
          49.2794177
         ],
         "lon": [
          -123.1090499,
          -123.1068723,
          -123.0978958,
          -123.0980745,
          -123.1035309,
          -123.1036863,
          -123.1073434,
          -123.1064112,
          -123.1162932,
          -123.1185854,
          -123.1104101,
          -123.1117163,
          -123.1111836,
          -123.1102014,
          -123.110277,
          -123.107005,
          -123.1197597,
          -123.1074988,
          -123.1186318,
          -123.1002041,
          -123.1150076,
          -123.0999589,
          -123.1048014,
          -123.1078608,
          -123.1083003,
          -123.109564,
          -123.1079703,
          -123.1097547,
          -123.1095947,
          -123.1174287,
          -123.1169029,
          -123.1176938,
          -123.1198464,
          -123.104844,
          -123.108081,
          -123.1164576,
          -123.1172443,
          -123.1088901,
          -123.1090325,
          -123.1068032,
          -123.1065637,
          -123.1064691,
          -123.1064315,
          -123.1066368,
          -123.1073143,
          -123.1074514,
          -123.1070156,
          -123.1071123,
          -123.106917,
          -123.1068483,
          -123.1066781,
          -123.1063965,
          -123.106734,
          -123.1066209,
          -123.1065184,
          -123.1063639,
          -123.1063341,
          -123.1063002,
          -123.1068858,
          -123.106855,
          -123.1086152,
          -123.1079261,
          -123.1164589,
          -123.1165023,
          -123.1101597,
          -123.1083829,
          -123.1098733,
          -123.1040678,
          -123.105379,
          -123.1194673,
          -123.1155063,
          -123.1045058,
          -123.1123285,
          -123.1184966,
          -123.1066099,
          -123.103036,
          -123.1197031,
          -123.1197278,
          -123.1212246,
          -123.1209311,
          -123.1182179,
          -123.1102832,
          -123.1084562,
          -123.1120757,
          -123.1103745,
          -123.1200549,
          -123.1187863,
          -123.1073562,
          -123.117507,
          -123.1201482,
          -123.1204403,
          -123.1038811,
          -123.119391,
          -123.1175417,
          -123.1177609,
          -123.1188899,
          -123.1182386,
          -123.1184243,
          -123.1190285,
          -123.1169062,
          -123.1194358,
          -123.1189956,
          -123.1189157,
          -123.1190968,
          -123.1078452,
          -123.1078361,
          -123.118583,
          -123.1161159,
          -123.118486,
          -123.1116632,
          -123.1181656,
          -123.1177434,
          -123.1184591,
          -123.1111441,
          -123.1119502,
          -123.109427,
          -123.1091243,
          -123.1095714,
          -123.1191954,
          -123.1117459,
          -123.1146849,
          -123.1118877,
          -123.1220466,
          -123.1218388,
          -123.109344,
          -123.1093153,
          -123.1191002,
          -123.116349,
          -123.1161117,
          -123.1189243,
          -123.1193374,
          -123.109193,
          -123.1125809,
          -123.1127096,
          -123.1165551,
          -123.1201704,
          -123.1037866,
          -123.107712,
          -123.1040897,
          -123.1204825,
          -123.1076316,
          -123.1075252,
          -123.107352,
          -123.1080325,
          -123.1074624,
          -123.1075035,
          -123.1079737,
          -123.1074453,
          -123.111511,
          -123.1113699,
          -123.1126225,
          -123.1100796,
          -123.1123664,
          -123.1221606,
          -123.1053674,
          -123.1079679,
          -123.1077237,
          -123.1057991,
          -123.0977401,
          -123.1186391,
          -123.1184912,
          -123.1092038,
          -123.1181207,
          -123.1085513,
          -123.1084859,
          -123.1060827,
          -123.1155123,
          -123.106243,
          -123.1203091,
          -123.0984116,
          -123.1105765,
          -123.1207163,
          -123.1045134,
          -123.118654,
          -123.1181035,
          -123.1207827,
          -123.1205667,
          -123.1087478,
          -123.1184949,
          -123.1162611,
          -123.1158225,
          -123.1158603,
          -123.1203257,
          -123.10443,
          -123.104529,
          -123.1125866,
          -123.1195658,
          -123.1206763,
          -123.1202307,
          -123.1069965,
          -123.1191666,
          -123.118686,
          -123.1190999,
          -123.1211489,
          -123.0998572,
          -123.1002344,
          -123.1084466,
          -123.1084807,
          -123.1093205,
          -123.1100401,
          -123.1096481,
          -123.1092466,
          -123.1210612,
          -123.1209459,
          -123.118815,
          -123.119384,
          -123.1087825,
          -123.1090478,
          -123.1155377,
          -123.121024,
          -123.1158762,
          -123.1155162,
          -123.1097894,
          -123.1185785,
          -123.1191044,
          -123.1176953,
          -123.1175153,
          -123.11727,
          -123.11611,
          -123.1040262,
          -123.1044226,
          -123.1190687,
          -123.1060244,
          -123.118169,
          -123.1172314,
          -123.1183332,
          -123.1182707,
          -123.1182125,
          -123.1177806,
          -123.1201643,
          -123.1069471,
          -123.1041219,
          -123.0998209,
          -123.0979109,
          -123.0971964,
          -123.1218165,
          -123.1162919,
          -123.1169918,
          -123.1105653,
          -123.1037577,
          -123.1044882,
          -123.1049771,
          -123.1047785,
          -123.1044747,
          -123.1201239,
          -123.1174765,
          -123.1187256,
          -123.1204371,
          -123.1077072,
          -123.1194706,
          -123.1185476,
          -123.1183998,
          -123.1186438,
          -123.116158,
          -123.1158255,
          -123.1174151,
          -123.117481,
          -123.1173622,
          -123.1187639,
          -123.1081881,
          -123.1213535,
          -123.0992758,
          -123.1136206,
          -123.1173839,
          -123.1207848,
          -123.1208122,
          -123.1084755,
          -123.1051707,
          -123.1083843,
          -123.1198755,
          -123.1182683,
          -123.1174782,
          -123.1203268,
          -123.1199726,
          -123.1169481,
          -123.1127168,
          -123.1117161,
          -123.1098175,
          -123.1094202,
          -123.1179254,
          -123.1112686,
          -123.111501,
          -123.1187838,
          -123.1212243,
          -123.120222,
          -123.107962,
          -123.1068062,
          -123.1079392,
          -123.1082494,
          -123.107188,
          -123.106967,
          -123.1067495,
          -123.1062443,
          -123.1070132,
          -123.1187044,
          -123.1186136,
          -123.1177066,
          -123.1199474,
          -123.119878,
          -123.1197514,
          -123.1196343,
          -123.1203378,
          -123.1093318,
          -123.1187816,
          -123.11997,
          -123.1163235,
          -123.1181021,
          -123.1181363,
          -123.1113926,
          -123.1067348,
          -123.1125167,
          -123.1120999,
          -123.1189713,
          -123.1099164,
          -123.1163534,
          -123.1172196,
          -123.1129837,
          -123.1129271,
          -123.0998366,
          -123.1205671,
          -123.1209105,
          -123.1193734,
          -123.109186,
          -123.10652,
          -123.1074119,
          -123.1074094,
          -123.1214063,
          -123.104202,
          -123.1044111,
          -123.118168,
          -123.1063174,
          -123.1063571,
          -123.1072667,
          -123.1094962,
          -123.109409,
          -123.1091786,
          -123.1092308,
          -123.1092138,
          -123.1092642,
          -123.107834,
          -123.1041486,
          -123.1156516,
          -123.11653,
          -123.1137317,
          -123.1136208,
          -123.1045168,
          -123.1178938,
          -123.119819,
          -123.1036995,
          -123.1203437,
          -123.1164264,
          -123.1180737,
          -123.1177831,
          -123.1148257,
          -123.1056595,
          -123.1143598,
          -123.1156891,
          -123.1185541,
          -123.1200236,
          -123.1044726,
          -123.1068827,
          -123.1060251,
          -123.1066065,
          -123.1041702,
          -123.1045297,
          -123.107818,
          -123.1094595,
          -123.1187049,
          -123.1079811,
          -123.1193369,
          -123.11931,
          -123.1185818,
          -123.1086358,
          -123.1074554,
          -123.1135011,
          -123.112999,
          -123.1128941,
          -123.1194881,
          -123.1205988
         ],
         "marker": {
          "color": "rgb(0, 0, 255)",
          "opacity": 0.7,
          "size": 8
         },
         "mode": "markers",
         "type": "scattermapbox"
        }
       ],
       "layout": {
        "mapbox": {
         "center": {
          "lat": 49.2836,
          "lon": -123.1077
         },
         "style": "open-street-map",
         "zoom": 13
        },
        "showlegend": false,
        "template": {
         "data": {
          "bar": [
           {
            "error_x": {
             "color": "#2a3f5f"
            },
            "error_y": {
             "color": "#2a3f5f"
            },
            "marker": {
             "line": {
              "color": "#E5ECF6",
              "width": 0.5
             }
            },
            "type": "bar"
           }
          ],
          "barpolar": [
           {
            "marker": {
             "line": {
              "color": "#E5ECF6",
              "width": 0.5
             }
            },
            "type": "barpolar"
           }
          ],
          "carpet": [
           {
            "aaxis": {
             "endlinecolor": "#2a3f5f",
             "gridcolor": "white",
             "linecolor": "white",
             "minorgridcolor": "white",
             "startlinecolor": "#2a3f5f"
            },
            "baxis": {
             "endlinecolor": "#2a3f5f",
             "gridcolor": "white",
             "linecolor": "white",
             "minorgridcolor": "white",
             "startlinecolor": "#2a3f5f"
            },
            "type": "carpet"
           }
          ],
          "choropleth": [
           {
            "colorbar": {
             "outlinewidth": 0,
             "ticks": ""
            },
            "type": "choropleth"
           }
          ],
          "contour": [
           {
            "colorbar": {
             "outlinewidth": 0,
             "ticks": ""
            },
            "colorscale": [
             [
              0,
              "#0d0887"
             ],
             [
              0.1111111111111111,
              "#46039f"
             ],
             [
              0.2222222222222222,
              "#7201a8"
             ],
             [
              0.3333333333333333,
              "#9c179e"
             ],
             [
              0.4444444444444444,
              "#bd3786"
             ],
             [
              0.5555555555555556,
              "#d8576b"
             ],
             [
              0.6666666666666666,
              "#ed7953"
             ],
             [
              0.7777777777777778,
              "#fb9f3a"
             ],
             [
              0.8888888888888888,
              "#fdca26"
             ],
             [
              1,
              "#f0f921"
             ]
            ],
            "type": "contour"
           }
          ],
          "contourcarpet": [
           {
            "colorbar": {
             "outlinewidth": 0,
             "ticks": ""
            },
            "type": "contourcarpet"
           }
          ],
          "heatmap": [
           {
            "colorbar": {
             "outlinewidth": 0,
             "ticks": ""
            },
            "colorscale": [
             [
              0,
              "#0d0887"
             ],
             [
              0.1111111111111111,
              "#46039f"
             ],
             [
              0.2222222222222222,
              "#7201a8"
             ],
             [
              0.3333333333333333,
              "#9c179e"
             ],
             [
              0.4444444444444444,
              "#bd3786"
             ],
             [
              0.5555555555555556,
              "#d8576b"
             ],
             [
              0.6666666666666666,
              "#ed7953"
             ],
             [
              0.7777777777777778,
              "#fb9f3a"
             ],
             [
              0.8888888888888888,
              "#fdca26"
             ],
             [
              1,
              "#f0f921"
             ]
            ],
            "type": "heatmap"
           }
          ],
          "heatmapgl": [
           {
            "colorbar": {
             "outlinewidth": 0,
             "ticks": ""
            },
            "colorscale": [
             [
              0,
              "#0d0887"
             ],
             [
              0.1111111111111111,
              "#46039f"
             ],
             [
              0.2222222222222222,
              "#7201a8"
             ],
             [
              0.3333333333333333,
              "#9c179e"
             ],
             [
              0.4444444444444444,
              "#bd3786"
             ],
             [
              0.5555555555555556,
              "#d8576b"
             ],
             [
              0.6666666666666666,
              "#ed7953"
             ],
             [
              0.7777777777777778,
              "#fb9f3a"
             ],
             [
              0.8888888888888888,
              "#fdca26"
             ],
             [
              1,
              "#f0f921"
             ]
            ],
            "type": "heatmapgl"
           }
          ],
          "histogram": [
           {
            "marker": {
             "colorbar": {
              "outlinewidth": 0,
              "ticks": ""
             }
            },
            "type": "histogram"
           }
          ],
          "histogram2d": [
           {
            "colorbar": {
             "outlinewidth": 0,
             "ticks": ""
            },
            "colorscale": [
             [
              0,
              "#0d0887"
             ],
             [
              0.1111111111111111,
              "#46039f"
             ],
             [
              0.2222222222222222,
              "#7201a8"
             ],
             [
              0.3333333333333333,
              "#9c179e"
             ],
             [
              0.4444444444444444,
              "#bd3786"
             ],
             [
              0.5555555555555556,
              "#d8576b"
             ],
             [
              0.6666666666666666,
              "#ed7953"
             ],
             [
              0.7777777777777778,
              "#fb9f3a"
             ],
             [
              0.8888888888888888,
              "#fdca26"
             ],
             [
              1,
              "#f0f921"
             ]
            ],
            "type": "histogram2d"
           }
          ],
          "histogram2dcontour": [
           {
            "colorbar": {
             "outlinewidth": 0,
             "ticks": ""
            },
            "colorscale": [
             [
              0,
              "#0d0887"
             ],
             [
              0.1111111111111111,
              "#46039f"
             ],
             [
              0.2222222222222222,
              "#7201a8"
             ],
             [
              0.3333333333333333,
              "#9c179e"
             ],
             [
              0.4444444444444444,
              "#bd3786"
             ],
             [
              0.5555555555555556,
              "#d8576b"
             ],
             [
              0.6666666666666666,
              "#ed7953"
             ],
             [
              0.7777777777777778,
              "#fb9f3a"
             ],
             [
              0.8888888888888888,
              "#fdca26"
             ],
             [
              1,
              "#f0f921"
             ]
            ],
            "type": "histogram2dcontour"
           }
          ],
          "mesh3d": [
           {
            "colorbar": {
             "outlinewidth": 0,
             "ticks": ""
            },
            "type": "mesh3d"
           }
          ],
          "parcoords": [
           {
            "line": {
             "colorbar": {
              "outlinewidth": 0,
              "ticks": ""
             }
            },
            "type": "parcoords"
           }
          ],
          "pie": [
           {
            "automargin": true,
            "type": "pie"
           }
          ],
          "scatter": [
           {
            "marker": {
             "colorbar": {
              "outlinewidth": 0,
              "ticks": ""
             }
            },
            "type": "scatter"
           }
          ],
          "scatter3d": [
           {
            "line": {
             "colorbar": {
              "outlinewidth": 0,
              "ticks": ""
             }
            },
            "marker": {
             "colorbar": {
              "outlinewidth": 0,
              "ticks": ""
             }
            },
            "type": "scatter3d"
           }
          ],
          "scattercarpet": [
           {
            "marker": {
             "colorbar": {
              "outlinewidth": 0,
              "ticks": ""
             }
            },
            "type": "scattercarpet"
           }
          ],
          "scattergeo": [
           {
            "marker": {
             "colorbar": {
              "outlinewidth": 0,
              "ticks": ""
             }
            },
            "type": "scattergeo"
           }
          ],
          "scattergl": [
           {
            "marker": {
             "colorbar": {
              "outlinewidth": 0,
              "ticks": ""
             }
            },
            "type": "scattergl"
           }
          ],
          "scattermapbox": [
           {
            "marker": {
             "colorbar": {
              "outlinewidth": 0,
              "ticks": ""
             }
            },
            "type": "scattermapbox"
           }
          ],
          "scatterpolar": [
           {
            "marker": {
             "colorbar": {
              "outlinewidth": 0,
              "ticks": ""
             }
            },
            "type": "scatterpolar"
           }
          ],
          "scatterpolargl": [
           {
            "marker": {
             "colorbar": {
              "outlinewidth": 0,
              "ticks": ""
             }
            },
            "type": "scatterpolargl"
           }
          ],
          "scatterternary": [
           {
            "marker": {
             "colorbar": {
              "outlinewidth": 0,
              "ticks": ""
             }
            },
            "type": "scatterternary"
           }
          ],
          "surface": [
           {
            "colorbar": {
             "outlinewidth": 0,
             "ticks": ""
            },
            "colorscale": [
             [
              0,
              "#0d0887"
             ],
             [
              0.1111111111111111,
              "#46039f"
             ],
             [
              0.2222222222222222,
              "#7201a8"
             ],
             [
              0.3333333333333333,
              "#9c179e"
             ],
             [
              0.4444444444444444,
              "#bd3786"
             ],
             [
              0.5555555555555556,
              "#d8576b"
             ],
             [
              0.6666666666666666,
              "#ed7953"
             ],
             [
              0.7777777777777778,
              "#fb9f3a"
             ],
             [
              0.8888888888888888,
              "#fdca26"
             ],
             [
              1,
              "#f0f921"
             ]
            ],
            "type": "surface"
           }
          ],
          "table": [
           {
            "cells": {
             "fill": {
              "color": "#EBF0F8"
             },
             "line": {
              "color": "white"
             }
            },
            "header": {
             "fill": {
              "color": "#C8D4E3"
             },
             "line": {
              "color": "white"
             }
            },
            "type": "table"
           }
          ]
         },
         "layout": {
          "annotationdefaults": {
           "arrowcolor": "#2a3f5f",
           "arrowhead": 0,
           "arrowwidth": 1
          },
          "coloraxis": {
           "colorbar": {
            "outlinewidth": 0,
            "ticks": ""
           }
          },
          "colorscale": {
           "diverging": [
            [
             0,
             "#8e0152"
            ],
            [
             0.1,
             "#c51b7d"
            ],
            [
             0.2,
             "#de77ae"
            ],
            [
             0.3,
             "#f1b6da"
            ],
            [
             0.4,
             "#fde0ef"
            ],
            [
             0.5,
             "#f7f7f7"
            ],
            [
             0.6,
             "#e6f5d0"
            ],
            [
             0.7,
             "#b8e186"
            ],
            [
             0.8,
             "#7fbc41"
            ],
            [
             0.9,
             "#4d9221"
            ],
            [
             1,
             "#276419"
            ]
           ],
           "sequential": [
            [
             0,
             "#0d0887"
            ],
            [
             0.1111111111111111,
             "#46039f"
            ],
            [
             0.2222222222222222,
             "#7201a8"
            ],
            [
             0.3333333333333333,
             "#9c179e"
            ],
            [
             0.4444444444444444,
             "#bd3786"
            ],
            [
             0.5555555555555556,
             "#d8576b"
            ],
            [
             0.6666666666666666,
             "#ed7953"
            ],
            [
             0.7777777777777778,
             "#fb9f3a"
            ],
            [
             0.8888888888888888,
             "#fdca26"
            ],
            [
             1,
             "#f0f921"
            ]
           ],
           "sequentialminus": [
            [
             0,
             "#0d0887"
            ],
            [
             0.1111111111111111,
             "#46039f"
            ],
            [
             0.2222222222222222,
             "#7201a8"
            ],
            [
             0.3333333333333333,
             "#9c179e"
            ],
            [
             0.4444444444444444,
             "#bd3786"
            ],
            [
             0.5555555555555556,
             "#d8576b"
            ],
            [
             0.6666666666666666,
             "#ed7953"
            ],
            [
             0.7777777777777778,
             "#fb9f3a"
            ],
            [
             0.8888888888888888,
             "#fdca26"
            ],
            [
             1,
             "#f0f921"
            ]
           ]
          },
          "colorway": [
           "#636efa",
           "#EF553B",
           "#00cc96",
           "#ab63fa",
           "#FFA15A",
           "#19d3f3",
           "#FF6692",
           "#B6E880",
           "#FF97FF",
           "#FECB52"
          ],
          "font": {
           "color": "#2a3f5f"
          },
          "geo": {
           "bgcolor": "white",
           "lakecolor": "white",
           "landcolor": "#E5ECF6",
           "showlakes": true,
           "showland": true,
           "subunitcolor": "white"
          },
          "hoverlabel": {
           "align": "left"
          },
          "hovermode": "closest",
          "mapbox": {
           "style": "light"
          },
          "paper_bgcolor": "white",
          "plot_bgcolor": "#E5ECF6",
          "polar": {
           "angularaxis": {
            "gridcolor": "white",
            "linecolor": "white",
            "ticks": ""
           },
           "bgcolor": "#E5ECF6",
           "radialaxis": {
            "gridcolor": "white",
            "linecolor": "white",
            "ticks": ""
           }
          },
          "scene": {
           "xaxis": {
            "backgroundcolor": "#E5ECF6",
            "gridcolor": "white",
            "gridwidth": 2,
            "linecolor": "white",
            "showbackground": true,
            "ticks": "",
            "zerolinecolor": "white"
           },
           "yaxis": {
            "backgroundcolor": "#E5ECF6",
            "gridcolor": "white",
            "gridwidth": 2,
            "linecolor": "white",
            "showbackground": true,
            "ticks": "",
            "zerolinecolor": "white"
           },
           "zaxis": {
            "backgroundcolor": "#E5ECF6",
            "gridcolor": "white",
            "gridwidth": 2,
            "linecolor": "white",
            "showbackground": true,
            "ticks": "",
            "zerolinecolor": "white"
           }
          },
          "shapedefaults": {
           "line": {
            "color": "#2a3f5f"
           }
          },
          "ternary": {
           "aaxis": {
            "gridcolor": "white",
            "linecolor": "white",
            "ticks": ""
           },
           "baxis": {
            "gridcolor": "white",
            "linecolor": "white",
            "ticks": ""
           },
           "bgcolor": "#E5ECF6",
           "caxis": {
            "gridcolor": "white",
            "linecolor": "white",
            "ticks": ""
           }
          },
          "title": {
           "x": 0.05
          },
          "xaxis": {
           "automargin": true,
           "gridcolor": "white",
           "linecolor": "white",
           "ticks": "",
           "title": {
            "standoff": 15
           },
           "zerolinecolor": "white",
           "zerolinewidth": 2
          },
          "yaxis": {
           "automargin": true,
           "gridcolor": "white",
           "linecolor": "white",
           "ticks": "",
           "title": {
            "standoff": 15
           },
           "zerolinecolor": "white",
           "zerolinewidth": 2
          }
         }
        }
       }
      },
      "text/html": [
       "<div>                            <div id=\"aef196f2-229e-477f-aae3-a7dc2b0fe6ce\" class=\"plotly-graph-div\" style=\"height:525px; width:100%;\"></div>            <script type=\"text/javascript\">                require([\"plotly\"], function(Plotly) {                    window.PLOTLYENV=window.PLOTLYENV || {};                                    if (document.getElementById(\"aef196f2-229e-477f-aae3-a7dc2b0fe6ce\")) {                    Plotly.newPlot(                        \"aef196f2-229e-477f-aae3-a7dc2b0fe6ce\",                        [{\"lat\": [49.28548, 49.28453, 49.28372, 49.283159999999995, 49.28247, 49.28182, 49.28147, 49.28004, 49.28071, 49.27967, 49.27903, 49.27854, 49.27973, 49.28058, 49.28165, 49.28236, 49.282709999999994, 49.2833, 49.28239, 49.283559999999994, 49.284240000000004, 49.283879999999996, 49.28288, 49.28188, 49.28067, 49.28063, 49.28156, 49.28244, 49.2829, 49.28325, 49.284240000000004, 49.28321, 49.28208, 49.28226, 49.28311, 49.28398, 49.284209999999995], \"lon\": [-123.11958999999999, -123.12116, -123.12018, -123.11906, -123.11816, -123.11719, -123.11666000000001, -123.11775, -123.11898000000001, -123.1205, -123.11946999999999, -123.11861, -123.11563000000001, -123.11518000000001, -123.11344, -123.11237, -123.11187, -123.11091, -123.10971, -123.10926, -123.10888999999999, -123.10645, -123.10692, -123.10726000000001, -123.10713, -123.10446999999999, -123.10445, -123.10425, -123.10413, -123.10418999999999, -123.10028, -123.10028, -123.09822, -123.09751000000001, -123.09749, -123.09787, -123.09773], \"marker\": {\"color\": \"rgb(255, 0, 0)\", \"opacity\": 0.7, \"size\": 17}, \"mode\": \"lines\", \"type\": \"scattermapbox\"}, {\"lat\": [49.2831924, 49.2805037, 49.2832655, 49.2832876, 49.2831638, 49.2836044, 49.284169, 49.2834234, 49.2796591, 49.2823937, 49.2831626, 49.2840053, 49.2837046, 49.2828105, 49.2828279, 49.2826816, 49.2842686, 49.2822713, 49.2782142, 49.2842068, 49.2796325, 49.2841519, 49.2827166, 49.2812192, 49.2811332, 49.2822828, 49.2813057, 49.2818471, 49.2822043, 49.280467, 49.2808203, 49.2802916, 49.2838563, 49.2832439, 49.2826068, 49.2799912, 49.2814683, 49.2843841, 49.2842334, 49.2798847, 49.2799835, 49.2800531, 49.2800925, 49.280725, 49.2808969, 49.2808034, 49.2808098, 49.280211800000004, 49.280128500000004, 49.2802068, 49.2799281, 49.2801333, 49.2799047, 49.2799553, 49.2800166, 49.2801753, 49.2802143, 49.2802598, 49.280766, 49.2807019, 49.2846283, 49.2810712, 49.2821283, 49.2820949, 49.2841022, 49.2841314, 49.2829831, 49.2835819, 49.2832515, 49.2814148, 49.2815388, 49.2821626, 49.2829077, 49.2837396, 49.2838137, 49.2831459, 49.2799921, 49.280322, 49.2789586, 49.2801553, 49.2784178, 49.282764, 49.2823357, 49.2827717, 49.2831412, 49.2849995, 49.2795705, 49.2799372, 49.2792602, 49.2794176, 49.279512, 49.2835624, 49.2859297, 49.2804019, 49.2802512, 49.2791098, 49.279359, 49.2793142, 49.2862341, 49.2805588, 49.2792503, 49.2810223, 49.280963, 49.28109, 49.2808958, 49.2807869, 49.2810728, 49.2814129, 49.2820489, 49.2827779, 49.2821143, 49.2819996, 49.2786045, 49.2824055, 49.282596, 49.282603, 49.2824325, 49.2827373, 49.2807931, 49.2817816, 49.2800328, 49.2838195, 49.2847736, 49.2846244, 49.282623, 49.2827131, 49.2833178, 49.2808593, 49.2809141, 49.2859796, 49.2780186, 49.282437, 49.2832458, 49.2833322, 49.2817211, 49.2797503, 49.2828822, 49.280533, 49.2828919, 49.2831979, 49.2819445, 49.2816397, 49.2821778, 49.2820098, 49.2818025, 49.2819026, 49.2819933, 49.2818951, 49.2835903, 49.2825674, 49.2830665, 49.2818272, 49.283201, 49.2840406, 49.2838437, 49.2822589, 49.2812723, 49.2826091, 49.2841852, 49.285251099999996, 49.2851463, 49.2822367, 49.2801028, 49.2824032, 49.2823756, 49.2826779, 49.2818193, 49.2837114, 49.2852359, 49.2814941, 49.2829671, 49.2793251, 49.282101, 49.2810287, 49.2804382, 49.2789992, 49.2850423, 49.2821882, 49.2804271, 49.2814195, 49.2813066, 49.2813314, 49.2857165, 49.2834375, 49.2812059, 49.2812215, 49.2814523, 49.2832215, 49.2846624, 49.2840148, 49.2853135, 49.2850045, 49.285626, 49.2845977, 49.2840443, 49.2841586, 49.28285, 49.2845626, 49.2845775, 49.2847075, 49.2827611, 49.2825011, 49.2847649, 49.2848332, 49.285504, 49.285292, 49.2832216, 49.2821875, 49.2811524, 49.2804032, 49.2816641, 49.2818739, 49.2817273, 49.2807258, 49.2822856, 49.280057, 49.2799299, 49.2796282, 49.2792632, 49.2831604, 49.2833904, 49.2862497, 49.2819214, 49.2801341, 49.2794999, 49.2802404, 49.2801999, 49.2801622, 49.2798631, 49.2852994, 49.2841207, 49.2836569, 49.2830338, 49.2820693, 49.2824284, 49.2847522, 49.2792611, 49.2793427, 49.2825835, 49.283151, 49.2830557, 49.2831498, 49.2832144, 49.2831781, 49.2835553, 49.2815586, 49.28589, 49.2836065, 49.2822603, 49.2826524, 49.283182, 49.2835325, 49.2833843, 49.2792111, 49.2791142, 49.2795971, 49.2796191, 49.2795681, 49.2819069, 49.2819085, 49.2801019, 49.2822308, 49.2818936, 49.281863799999996, 49.2794992, 49.2792972, 49.2843035, 49.2814612, 49.2830756, 49.2860715, 49.2830556, 49.2801415, 49.2785788, 49.2785643, 49.2808906, 49.2823544, 49.2827091, 49.282782, 49.2823394, 49.2803076, 49.2823698, 49.2825321, 49.2818976, 49.2848766, 49.2793791, 49.2827821, 49.2825107, 49.2829949, 49.2829336, 49.281653, 49.283064, 49.2817874, 49.2805664, 49.2818309, 49.278592, 49.2785319, 49.2790983, 49.2795532, 49.2795102, 49.2793594, 49.2792847, 49.2797903, 49.2824894, 49.2848628, 49.2840486, 49.2822989, 49.2801564, 49.2801809, 49.2825678, 49.2834894, 49.2834975, 49.2837533, 49.2805173, 49.2841913, 49.2814547, 49.280708, 49.2819575, 49.2820037, 49.2839422, 49.2799331, 49.283799, 49.2834916, 49.2830491, 49.2831514, 49.2804152, 49.280541, 49.2801601, 49.2810356, 49.2810403, 49.2820869, 49.2819798, 49.2819179, 49.2803398, 49.2839055, 49.283846, 49.2830143, 49.2837399, 49.2829428, 49.2828092, 49.2809701, 49.2827946, 49.2813538, 49.2799366, 49.28207, 49.2819959, 49.2823994, 49.2799212, 49.281145, 49.2816298, 49.2852025, 49.279958, 49.2822278, 49.2821444, 49.2812082, 49.2819083, 49.2794927, 49.2788511, 49.2821466, 49.2828849, 49.2835774, 49.279869, 49.2804285, 49.2802899, 49.2818502, 49.2826468, 49.2832374, 49.2831716, 49.2783771, 49.282277, 49.280096, 49.2800803, 49.2799591, 49.2843874, 49.2805251, 49.2819109, 49.2821222, 49.2821862, 49.2836188, 49.2794177], \"lon\": [-123.1090499, -123.1068723, -123.0978958, -123.0980745, -123.1035309, -123.1036863, -123.1073434, -123.1064112, -123.1162932, -123.1185854, -123.1104101, -123.1117163, -123.1111836, -123.1102014, -123.110277, -123.107005, -123.1197597, -123.1074988, -123.1186318, -123.1002041, -123.1150076, -123.0999589, -123.1048014, -123.1078608, -123.1083003, -123.109564, -123.1079703, -123.1097547, -123.1095947, -123.1174287, -123.1169029, -123.1176938, -123.1198464, -123.104844, -123.108081, -123.1164576, -123.1172443, -123.1088901, -123.1090325, -123.1068032, -123.1065637, -123.1064691, -123.1064315, -123.1066368, -123.1073143, -123.1074514, -123.1070156, -123.1071123, -123.106917, -123.1068483, -123.1066781, -123.1063965, -123.106734, -123.1066209, -123.1065184, -123.1063639, -123.1063341, -123.1063002, -123.1068858, -123.106855, -123.1086152, -123.1079261, -123.1164589, -123.1165023, -123.1101597, -123.1083829, -123.1098733, -123.1040678, -123.105379, -123.1194673, -123.1155063, -123.1045058, -123.1123285, -123.1184966, -123.1066099, -123.103036, -123.1197031, -123.1197278, -123.1212246, -123.1209311, -123.1182179, -123.1102832, -123.1084562, -123.1120757, -123.1103745, -123.1200549, -123.1187863, -123.1073562, -123.117507, -123.1201482, -123.1204403, -123.1038811, -123.119391, -123.1175417, -123.1177609, -123.1188899, -123.1182386, -123.1184243, -123.1190285, -123.1169062, -123.1194358, -123.1189956, -123.1189157, -123.1190968, -123.1078452, -123.1078361, -123.118583, -123.1161159, -123.118486, -123.1116632, -123.1181656, -123.1177434, -123.1184591, -123.1111441, -123.1119502, -123.109427, -123.1091243, -123.1095714, -123.1191954, -123.1117459, -123.1146849, -123.1118877, -123.1220466, -123.1218388, -123.109344, -123.1093153, -123.1191002, -123.116349, -123.1161117, -123.1189243, -123.1193374, -123.109193, -123.1125809, -123.1127096, -123.1165551, -123.1201704, -123.1037866, -123.107712, -123.1040897, -123.1204825, -123.1076316, -123.1075252, -123.107352, -123.1080325, -123.1074624, -123.1075035, -123.1079737, -123.1074453, -123.111511, -123.1113699, -123.1126225, -123.1100796, -123.1123664, -123.1221606, -123.1053674, -123.1079679, -123.1077237, -123.1057991, -123.0977401, -123.1186391, -123.1184912, -123.1092038, -123.1181207, -123.1085513, -123.1084859, -123.1060827, -123.1155123, -123.106243, -123.1203091, -123.0984116, -123.1105765, -123.1207163, -123.1045134, -123.118654, -123.1181035, -123.1207827, -123.1205667, -123.1087478, -123.1184949, -123.1162611, -123.1158225, -123.1158603, -123.1203257, -123.10443, -123.104529, -123.1125866, -123.1195658, -123.1206763, -123.1202307, -123.1069965, -123.1191666, -123.118686, -123.1190999, -123.1211489, -123.0998572, -123.1002344, -123.1084466, -123.1084807, -123.1093205, -123.1100401, -123.1096481, -123.1092466, -123.1210612, -123.1209459, -123.118815, -123.119384, -123.1087825, -123.1090478, -123.1155377, -123.121024, -123.1158762, -123.1155162, -123.1097894, -123.1185785, -123.1191044, -123.1176953, -123.1175153, -123.11727, -123.11611, -123.1040262, -123.1044226, -123.1190687, -123.1060244, -123.118169, -123.1172314, -123.1183332, -123.1182707, -123.1182125, -123.1177806, -123.1201643, -123.1069471, -123.1041219, -123.0998209, -123.0979109, -123.0971964, -123.1218165, -123.1162919, -123.1169918, -123.1105653, -123.1037577, -123.1044882, -123.1049771, -123.1047785, -123.1044747, -123.1201239, -123.1174765, -123.1187256, -123.1204371, -123.1077072, -123.1194706, -123.1185476, -123.1183998, -123.1186438, -123.116158, -123.1158255, -123.1174151, -123.117481, -123.1173622, -123.1187639, -123.1081881, -123.1213535, -123.0992758, -123.1136206, -123.1173839, -123.1207848, -123.1208122, -123.1084755, -123.1051707, -123.1083843, -123.1198755, -123.1182683, -123.1174782, -123.1203268, -123.1199726, -123.1169481, -123.1127168, -123.1117161, -123.1098175, -123.1094202, -123.1179254, -123.1112686, -123.111501, -123.1187838, -123.1212243, -123.120222, -123.107962, -123.1068062, -123.1079392, -123.1082494, -123.107188, -123.106967, -123.1067495, -123.1062443, -123.1070132, -123.1187044, -123.1186136, -123.1177066, -123.1199474, -123.119878, -123.1197514, -123.1196343, -123.1203378, -123.1093318, -123.1187816, -123.11997, -123.1163235, -123.1181021, -123.1181363, -123.1113926, -123.1067348, -123.1125167, -123.1120999, -123.1189713, -123.1099164, -123.1163534, -123.1172196, -123.1129837, -123.1129271, -123.0998366, -123.1205671, -123.1209105, -123.1193734, -123.109186, -123.10652, -123.1074119, -123.1074094, -123.1214063, -123.104202, -123.1044111, -123.118168, -123.1063174, -123.1063571, -123.1072667, -123.1094962, -123.109409, -123.1091786, -123.1092308, -123.1092138, -123.1092642, -123.107834, -123.1041486, -123.1156516, -123.11653, -123.1137317, -123.1136208, -123.1045168, -123.1178938, -123.119819, -123.1036995, -123.1203437, -123.1164264, -123.1180737, -123.1177831, -123.1148257, -123.1056595, -123.1143598, -123.1156891, -123.1185541, -123.1200236, -123.1044726, -123.1068827, -123.1060251, -123.1066065, -123.1041702, -123.1045297, -123.107818, -123.1094595, -123.1187049, -123.1079811, -123.1193369, -123.11931, -123.1185818, -123.1086358, -123.1074554, -123.1135011, -123.112999, -123.1128941, -123.1194881, -123.1205988], \"marker\": {\"color\": \"rgb(0, 0, 255)\", \"opacity\": 0.7, \"size\": 8}, \"mode\": \"markers\", \"type\": \"scattermapbox\"}],                        {\"mapbox\": {\"center\": {\"lat\": 49.2836, \"lon\": -123.1077}, \"style\": \"open-street-map\", \"zoom\": 13}, \"showlegend\": false, \"template\": {\"data\": {\"bar\": [{\"error_x\": {\"color\": \"#2a3f5f\"}, \"error_y\": {\"color\": \"#2a3f5f\"}, \"marker\": {\"line\": {\"color\": \"#E5ECF6\", \"width\": 0.5}}, \"type\": \"bar\"}], \"barpolar\": [{\"marker\": {\"line\": {\"color\": \"#E5ECF6\", \"width\": 0.5}}, \"type\": \"barpolar\"}], \"carpet\": [{\"aaxis\": {\"endlinecolor\": \"#2a3f5f\", \"gridcolor\": \"white\", \"linecolor\": \"white\", \"minorgridcolor\": \"white\", \"startlinecolor\": \"#2a3f5f\"}, \"baxis\": {\"endlinecolor\": \"#2a3f5f\", \"gridcolor\": \"white\", \"linecolor\": \"white\", \"minorgridcolor\": \"white\", \"startlinecolor\": \"#2a3f5f\"}, \"type\": \"carpet\"}], \"choropleth\": [{\"colorbar\": {\"outlinewidth\": 0, \"ticks\": \"\"}, \"type\": \"choropleth\"}], \"contour\": [{\"colorbar\": {\"outlinewidth\": 0, \"ticks\": \"\"}, \"colorscale\": [[0.0, \"#0d0887\"], [0.1111111111111111, \"#46039f\"], [0.2222222222222222, \"#7201a8\"], [0.3333333333333333, \"#9c179e\"], [0.4444444444444444, \"#bd3786\"], [0.5555555555555556, \"#d8576b\"], [0.6666666666666666, \"#ed7953\"], [0.7777777777777778, \"#fb9f3a\"], [0.8888888888888888, \"#fdca26\"], [1.0, \"#f0f921\"]], \"type\": \"contour\"}], \"contourcarpet\": [{\"colorbar\": {\"outlinewidth\": 0, \"ticks\": \"\"}, \"type\": \"contourcarpet\"}], \"heatmap\": [{\"colorbar\": {\"outlinewidth\": 0, \"ticks\": \"\"}, \"colorscale\": [[0.0, \"#0d0887\"], [0.1111111111111111, \"#46039f\"], [0.2222222222222222, \"#7201a8\"], [0.3333333333333333, \"#9c179e\"], [0.4444444444444444, \"#bd3786\"], [0.5555555555555556, \"#d8576b\"], [0.6666666666666666, \"#ed7953\"], [0.7777777777777778, \"#fb9f3a\"], [0.8888888888888888, \"#fdca26\"], [1.0, \"#f0f921\"]], \"type\": \"heatmap\"}], \"heatmapgl\": [{\"colorbar\": {\"outlinewidth\": 0, \"ticks\": \"\"}, \"colorscale\": [[0.0, \"#0d0887\"], [0.1111111111111111, \"#46039f\"], [0.2222222222222222, \"#7201a8\"], [0.3333333333333333, \"#9c179e\"], [0.4444444444444444, \"#bd3786\"], [0.5555555555555556, \"#d8576b\"], [0.6666666666666666, \"#ed7953\"], [0.7777777777777778, \"#fb9f3a\"], [0.8888888888888888, \"#fdca26\"], [1.0, \"#f0f921\"]], \"type\": \"heatmapgl\"}], \"histogram\": [{\"marker\": {\"colorbar\": {\"outlinewidth\": 0, \"ticks\": \"\"}}, \"type\": \"histogram\"}], \"histogram2d\": [{\"colorbar\": {\"outlinewidth\": 0, \"ticks\": \"\"}, \"colorscale\": [[0.0, \"#0d0887\"], [0.1111111111111111, \"#46039f\"], [0.2222222222222222, \"#7201a8\"], [0.3333333333333333, \"#9c179e\"], [0.4444444444444444, \"#bd3786\"], [0.5555555555555556, \"#d8576b\"], [0.6666666666666666, \"#ed7953\"], [0.7777777777777778, \"#fb9f3a\"], [0.8888888888888888, \"#fdca26\"], [1.0, \"#f0f921\"]], \"type\": \"histogram2d\"}], \"histogram2dcontour\": [{\"colorbar\": {\"outlinewidth\": 0, \"ticks\": \"\"}, \"colorscale\": [[0.0, \"#0d0887\"], [0.1111111111111111, \"#46039f\"], [0.2222222222222222, \"#7201a8\"], [0.3333333333333333, \"#9c179e\"], [0.4444444444444444, \"#bd3786\"], [0.5555555555555556, \"#d8576b\"], [0.6666666666666666, \"#ed7953\"], [0.7777777777777778, \"#fb9f3a\"], [0.8888888888888888, \"#fdca26\"], [1.0, \"#f0f921\"]], \"type\": \"histogram2dcontour\"}], \"mesh3d\": [{\"colorbar\": {\"outlinewidth\": 0, \"ticks\": \"\"}, \"type\": \"mesh3d\"}], \"parcoords\": [{\"line\": {\"colorbar\": {\"outlinewidth\": 0, \"ticks\": \"\"}}, \"type\": \"parcoords\"}], \"pie\": [{\"automargin\": true, \"type\": \"pie\"}], \"scatter\": [{\"marker\": {\"colorbar\": {\"outlinewidth\": 0, \"ticks\": \"\"}}, \"type\": \"scatter\"}], \"scatter3d\": [{\"line\": {\"colorbar\": {\"outlinewidth\": 0, \"ticks\": \"\"}}, \"marker\": {\"colorbar\": {\"outlinewidth\": 0, \"ticks\": \"\"}}, \"type\": \"scatter3d\"}], \"scattercarpet\": [{\"marker\": {\"colorbar\": {\"outlinewidth\": 0, \"ticks\": \"\"}}, \"type\": \"scattercarpet\"}], \"scattergeo\": [{\"marker\": {\"colorbar\": {\"outlinewidth\": 0, \"ticks\": \"\"}}, \"type\": \"scattergeo\"}], \"scattergl\": [{\"marker\": {\"colorbar\": {\"outlinewidth\": 0, \"ticks\": \"\"}}, \"type\": \"scattergl\"}], \"scattermapbox\": [{\"marker\": {\"colorbar\": {\"outlinewidth\": 0, \"ticks\": \"\"}}, \"type\": \"scattermapbox\"}], \"scatterpolar\": [{\"marker\": {\"colorbar\": {\"outlinewidth\": 0, \"ticks\": \"\"}}, \"type\": \"scatterpolar\"}], \"scatterpolargl\": [{\"marker\": {\"colorbar\": {\"outlinewidth\": 0, \"ticks\": \"\"}}, \"type\": \"scatterpolargl\"}], \"scatterternary\": [{\"marker\": {\"colorbar\": {\"outlinewidth\": 0, \"ticks\": \"\"}}, \"type\": \"scatterternary\"}], \"surface\": [{\"colorbar\": {\"outlinewidth\": 0, \"ticks\": \"\"}, \"colorscale\": [[0.0, \"#0d0887\"], [0.1111111111111111, \"#46039f\"], [0.2222222222222222, \"#7201a8\"], [0.3333333333333333, \"#9c179e\"], [0.4444444444444444, \"#bd3786\"], [0.5555555555555556, \"#d8576b\"], [0.6666666666666666, \"#ed7953\"], [0.7777777777777778, \"#fb9f3a\"], [0.8888888888888888, \"#fdca26\"], [1.0, \"#f0f921\"]], \"type\": \"surface\"}], \"table\": [{\"cells\": {\"fill\": {\"color\": \"#EBF0F8\"}, \"line\": {\"color\": \"white\"}}, \"header\": {\"fill\": {\"color\": \"#C8D4E3\"}, \"line\": {\"color\": \"white\"}}, \"type\": \"table\"}]}, \"layout\": {\"annotationdefaults\": {\"arrowcolor\": \"#2a3f5f\", \"arrowhead\": 0, \"arrowwidth\": 1}, \"coloraxis\": {\"colorbar\": {\"outlinewidth\": 0, \"ticks\": \"\"}}, \"colorscale\": {\"diverging\": [[0, \"#8e0152\"], [0.1, \"#c51b7d\"], [0.2, \"#de77ae\"], [0.3, \"#f1b6da\"], [0.4, \"#fde0ef\"], [0.5, \"#f7f7f7\"], [0.6, \"#e6f5d0\"], [0.7, \"#b8e186\"], [0.8, \"#7fbc41\"], [0.9, \"#4d9221\"], [1, \"#276419\"]], \"sequential\": [[0.0, \"#0d0887\"], [0.1111111111111111, \"#46039f\"], [0.2222222222222222, \"#7201a8\"], [0.3333333333333333, \"#9c179e\"], [0.4444444444444444, \"#bd3786\"], [0.5555555555555556, \"#d8576b\"], [0.6666666666666666, \"#ed7953\"], [0.7777777777777778, \"#fb9f3a\"], [0.8888888888888888, \"#fdca26\"], [1.0, \"#f0f921\"]], \"sequentialminus\": [[0.0, \"#0d0887\"], [0.1111111111111111, \"#46039f\"], [0.2222222222222222, \"#7201a8\"], [0.3333333333333333, \"#9c179e\"], [0.4444444444444444, \"#bd3786\"], [0.5555555555555556, \"#d8576b\"], [0.6666666666666666, \"#ed7953\"], [0.7777777777777778, \"#fb9f3a\"], [0.8888888888888888, \"#fdca26\"], [1.0, \"#f0f921\"]]}, \"colorway\": [\"#636efa\", \"#EF553B\", \"#00cc96\", \"#ab63fa\", \"#FFA15A\", \"#19d3f3\", \"#FF6692\", \"#B6E880\", \"#FF97FF\", \"#FECB52\"], \"font\": {\"color\": \"#2a3f5f\"}, \"geo\": {\"bgcolor\": \"white\", \"lakecolor\": \"white\", \"landcolor\": \"#E5ECF6\", \"showlakes\": true, \"showland\": true, \"subunitcolor\": \"white\"}, \"hoverlabel\": {\"align\": \"left\"}, \"hovermode\": \"closest\", \"mapbox\": {\"style\": \"light\"}, \"paper_bgcolor\": \"white\", \"plot_bgcolor\": \"#E5ECF6\", \"polar\": {\"angularaxis\": {\"gridcolor\": \"white\", \"linecolor\": \"white\", \"ticks\": \"\"}, \"bgcolor\": \"#E5ECF6\", \"radialaxis\": {\"gridcolor\": \"white\", \"linecolor\": \"white\", \"ticks\": \"\"}}, \"scene\": {\"xaxis\": {\"backgroundcolor\": \"#E5ECF6\", \"gridcolor\": \"white\", \"gridwidth\": 2, \"linecolor\": \"white\", \"showbackground\": true, \"ticks\": \"\", \"zerolinecolor\": \"white\"}, \"yaxis\": {\"backgroundcolor\": \"#E5ECF6\", \"gridcolor\": \"white\", \"gridwidth\": 2, \"linecolor\": \"white\", \"showbackground\": true, \"ticks\": \"\", \"zerolinecolor\": \"white\"}, \"zaxis\": {\"backgroundcolor\": \"#E5ECF6\", \"gridcolor\": \"white\", \"gridwidth\": 2, \"linecolor\": \"white\", \"showbackground\": true, \"ticks\": \"\", \"zerolinecolor\": \"white\"}}, \"shapedefaults\": {\"line\": {\"color\": \"#2a3f5f\"}}, \"ternary\": {\"aaxis\": {\"gridcolor\": \"white\", \"linecolor\": \"white\", \"ticks\": \"\"}, \"baxis\": {\"gridcolor\": \"white\", \"linecolor\": \"white\", \"ticks\": \"\"}, \"bgcolor\": \"#E5ECF6\", \"caxis\": {\"gridcolor\": \"white\", \"linecolor\": \"white\", \"ticks\": \"\"}}, \"title\": {\"x\": 0.05}, \"xaxis\": {\"automargin\": true, \"gridcolor\": \"white\", \"linecolor\": \"white\", \"ticks\": \"\", \"title\": {\"standoff\": 15}, \"zerolinecolor\": \"white\", \"zerolinewidth\": 2}, \"yaxis\": {\"automargin\": true, \"gridcolor\": \"white\", \"linecolor\": \"white\", \"ticks\": \"\", \"title\": {\"standoff\": 15}, \"zerolinecolor\": \"white\", \"zerolinewidth\": 2}}}},                        {\"responsive\": true}                    ).then(function(){\n",
       "                            \n",
       "var gd = document.getElementById('aef196f2-229e-477f-aae3-a7dc2b0fe6ce');\n",
       "var x = new MutationObserver(function (mutations, observer) {{\n",
       "        var display = window.getComputedStyle(gd).display;\n",
       "        if (!display || display === 'none') {{\n",
       "            console.log([gd, 'removed!']);\n",
       "            Plotly.purge(gd);\n",
       "            observer.disconnect();\n",
       "        }}\n",
       "}});\n",
       "\n",
       "// Listen for the removal of the full notebook cells\n",
       "var notebookContainer = gd.closest('#notebook-container');\n",
       "if (notebookContainer) {{\n",
       "    x.observe(notebookContainer, {childList: true});\n",
       "}}\n",
       "\n",
       "// Listen for the clearing of the current output cell\n",
       "var outputEl = gd.closest('.output');\n",
       "if (outputEl) {{\n",
       "    x.observe(outputEl, {childList: true});\n",
       "}}\n",
       "\n",
       "                        })                };                });            </script>        </div>"
      ]
     },
     "metadata": {},
     "output_type": "display_data"
    }
   ],
   "source": [
    "fig = go.Figure()\n",
    "fig.add_trace(go.Scattermapbox(\n",
    "                lat=path_points[\"lat\"],\n",
    "                lon=path_points[\"lon\"],\n",
    "                mode='lines',\n",
    "                marker=go.scattermapbox.Marker(\n",
    "                    size=17,\n",
    "                    color='rgb(255, 0, 0)',\n",
    "                    opacity=0.7\n",
    "        )\n",
    "    ))\n",
    "\n",
    "fig.add_trace(go.Scattermapbox(\n",
    "                    lat=nearby_amenities.lat,\n",
    "                    lon=nearby_amenities.lon,\n",
    "                    mode='markers',\n",
    "                    marker=go.scattermapbox.Marker(\n",
    "                        size=8,\n",
    "                        color='rgb(0, 0, 255)',\n",
    "                        opacity=0.7\n",
    "                    )\n",
    "            ))\n",
    "\n",
    "fig.update_layout(mapbox_style=\"open-street-map\",\n",
    "                  showlegend = False,\n",
    "                  mapbox={'center': go.layout.mapbox.Center(lat=49.2836, lon=-123.1077), 'zoom': 13})\n",
    "fig.show()"
   ]
  },
  {
   "cell_type": "code",
   "execution_count": 45,
   "metadata": {},
   "outputs": [],
   "source": [
    "def output_gpx(points, output_filename):\n",
    "    \"\"\"\n",
    "    Output a GPX file with latitude and longitude from the points DataFrame.\n",
    "    \"\"\"\n",
    "    from xml.dom.minidom import getDOMImplementation\n",
    "    def append_trkpt(pt, trkseg, doc):\n",
    "        trkpt = doc.createElement('trkpt')\n",
    "        trkpt.setAttribute('lat', '%.8f' % (pt['lat']))\n",
    "        trkpt.setAttribute('lon', '%.8f' % (pt['lon']))\n",
    "        trkseg.appendChild(trkpt)\n",
    "    \n",
    "    doc = getDOMImplementation().createDocument(None, 'gpx', None)\n",
    "    trk = doc.createElement('trk')\n",
    "    doc.documentElement.appendChild(trk)\n",
    "    trkseg = doc.createElement('trkseg')\n",
    "    trk.appendChild(trkseg)\n",
    "    \n",
    "    points.apply(append_trkpt, axis=1, trkseg=trkseg, doc=doc)\n",
    "    \n",
    "    with open(output_filename, 'w') as fh:\n",
    "        doc.writexml(fh, indent=' ')"
   ]
  },
  {
   "cell_type": "code",
   "execution_count": null,
   "metadata": {},
   "outputs": [],
   "source": []
  },
  {
   "cell_type": "code",
   "execution_count": null,
   "metadata": {},
   "outputs": [],
   "source": []
  },
  {
   "cell_type": "code",
   "execution_count": null,
   "metadata": {},
   "outputs": [],
   "source": []
  }
 ],
 "metadata": {
  "kernelspec": {
   "display_name": "Python 3",
   "language": "python",
   "name": "python3"
  },
  "language_info": {
   "codemirror_mode": {
    "name": "ipython",
    "version": 3
   },
   "file_extension": ".py",
   "mimetype": "text/x-python",
   "name": "python",
   "nbconvert_exporter": "python",
   "pygments_lexer": "ipython3",
   "version": "3.7.7"
  }
 },
 "nbformat": 4,
 "nbformat_minor": 4
}
